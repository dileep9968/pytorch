{
  "nbformat": 4,
  "nbformat_minor": 0,
  "metadata": {
    "colab": {
      "provenance": [],
      "authorship_tag": "ABX9TyPj9Vxi1dOQj4dliXhCkKCr",
      "include_colab_link": true
    },
    "kernelspec": {
      "name": "python3",
      "display_name": "Python 3"
    },
    "language_info": {
      "name": "python"
    }
  },
  "cells": [
    {
      "cell_type": "markdown",
      "metadata": {
        "id": "view-in-github",
        "colab_type": "text"
      },
      "source": [
        "<a href=\"https://colab.research.google.com/github/dileep9968/pytorch/blob/main/CNN.ipynb\" target=\"_parent\"><img src=\"https://colab.research.google.com/assets/colab-badge.svg\" alt=\"Open In Colab\"/></a>"
      ]
    },
    {
      "cell_type": "code",
      "execution_count": 3,
      "metadata": {
        "id": "qwlx33GumT5L"
      },
      "outputs": [],
      "source": [
        "import torch\n",
        "import torch.nn as nn\n",
        "import torch.nn.functional as F\n",
        "from torch.utils.data import DataLoader\n",
        "from torchvision import datasets, transforms\n",
        "from torchvision.utils import make_grid\n",
        "\n",
        "import numpy as np\n",
        "import pandas as pd\n",
        "from sklearn.metrics import confusion_matrix\n",
        "import matplotlib.pyplot as plt\n",
        "%matplotlib inline"
      ]
    },
    {
      "cell_type": "code",
      "source": [
        "# convert MNIST Image into a Tensor Files into a Tensor of 4-Dimensions ( # of images, Height, Width, Channel)\n",
        "transform = transforms.ToTensor()"
      ],
      "metadata": {
        "id": "7q75Y_groJ4J"
      },
      "execution_count": 4,
      "outputs": []
    },
    {
      "cell_type": "code",
      "source": [
        "# Train data\n",
        "train_data = datasets.MNIST(root='/cnn_data',train=True,download=True,transform=transform)\n"
      ],
      "metadata": {
        "id": "tuEjtwNooxJU"
      },
      "execution_count": 9,
      "outputs": []
    },
    {
      "cell_type": "code",
      "source": [
        "# Test data\n",
        "test_data = datasets.MNIST(root='/cnn_data',train=False,download=True,transform=transform)\n"
      ],
      "metadata": {
        "id": "kAKYqaMZpPqN"
      },
      "execution_count": 10,
      "outputs": []
    },
    {
      "cell_type": "code",
      "source": [
        "train_data"
      ],
      "metadata": {
        "colab": {
          "base_uri": "https://localhost:8080/"
        },
        "id": "1u6l0JOFpeWS",
        "outputId": "a283dc55-f8bf-4a07-cf07-461052546993"
      },
      "execution_count": 11,
      "outputs": [
        {
          "output_type": "execute_result",
          "data": {
            "text/plain": [
              "Dataset MNIST\n",
              "    Number of datapoints: 60000\n",
              "    Root location: /cnn_data\n",
              "    Split: Train\n",
              "    StandardTransform\n",
              "Transform: ToTensor()"
            ]
          },
          "metadata": {},
          "execution_count": 11
        }
      ]
    },
    {
      "cell_type": "code",
      "source": [
        "test_data"
      ],
      "metadata": {
        "colab": {
          "base_uri": "https://localhost:8080/"
        },
        "id": "zH1-aQynpitI",
        "outputId": "b3d7aeba-e9d6-4bde-9b1c-cffb5fd4e8e8"
      },
      "execution_count": 12,
      "outputs": [
        {
          "output_type": "execute_result",
          "data": {
            "text/plain": [
              "Dataset MNIST\n",
              "    Number of datapoints: 10000\n",
              "    Root location: /cnn_data\n",
              "    Split: Test\n",
              "    StandardTransform\n",
              "Transform: ToTensor()"
            ]
          },
          "metadata": {},
          "execution_count": 12
        }
      ]
    },
    {
      "cell_type": "code",
      "source": [
        "pwd"
      ],
      "metadata": {
        "colab": {
          "base_uri": "https://localhost:8080/",
          "height": 35
        },
        "id": "iugfP9xZqA4g",
        "outputId": "513eada4-ea55-4cc7-f64d-3c5994a825a3"
      },
      "execution_count": 21,
      "outputs": [
        {
          "output_type": "execute_result",
          "data": {
            "text/plain": [
              "'/content'"
            ],
            "application/vnd.google.colaboratory.intrinsic+json": {
              "type": "string"
            }
          },
          "metadata": {},
          "execution_count": 21
        }
      ]
    },
    {
      "cell_type": "code",
      "source": [
        "# create a small size for images let's say 10\n",
        "train_loader = DataLoader(train_data, batch_size=20, shuffle = True)\n",
        "test_loader = DataLoader(test_data, batch_size=20, shuffle = False)"
      ],
      "metadata": {
        "id": "ytCIwXJGqCeQ"
      },
      "execution_count": 23,
      "outputs": []
    },
    {
      "cell_type": "code",
      "source": [
        "# Define our CNN Model\n",
        "# Describe convolutional layer and wat it's doing (2 cnn)\n",
        "# This is just an example in the next video\n",
        "conv1 = nn.Conv2d(1,6,3,1)\n",
        "conv2 = nn.Conv2d(6,16,3,1)\n"
      ],
      "metadata": {
        "id": "jnF7tvbeqv7E"
      },
      "execution_count": 24,
      "outputs": []
    },
    {
      "cell_type": "code",
      "source": [
        "# Grab 1 minist record/image\n",
        "for i, (x_train,y_train) in enumerate(train_data):\n",
        "  break"
      ],
      "metadata": {
        "id": "gnnCBXMnraNl"
      },
      "execution_count": 28,
      "outputs": []
    },
    {
      "cell_type": "code",
      "source": [
        "x_train.shape"
      ],
      "metadata": {
        "colab": {
          "base_uri": "https://localhost:8080/"
        },
        "id": "qWBqAqr0rob_",
        "outputId": "697a18a1-4cc6-4d5d-d306-91f1dfcb0461"
      },
      "execution_count": 29,
      "outputs": [
        {
          "output_type": "execute_result",
          "data": {
            "text/plain": [
              "torch.Size([1, 28, 28])"
            ]
          },
          "metadata": {},
          "execution_count": 29
        }
      ]
    },
    {
      "cell_type": "code",
      "source": [
        "x = x_train.view(1,1,28,28)"
      ],
      "metadata": {
        "id": "8Sp9PPM0umxC"
      },
      "execution_count": 30,
      "outputs": []
    },
    {
      "cell_type": "code",
      "source": [
        "# perform\n",
        "x = F.relu(conv1(x))"
      ],
      "metadata": {
        "id": "aGJBybJnuuM2"
      },
      "execution_count": 31,
      "outputs": []
    },
    {
      "cell_type": "code",
      "source": [
        "x.shape"
      ],
      "metadata": {
        "colab": {
          "base_uri": "https://localhost:8080/"
        },
        "id": "N3xR8D3qu6Wp",
        "outputId": "8faeade2-8c64-4aa4-9dd0-3c061be62f36"
      },
      "execution_count": 33,
      "outputs": [
        {
          "output_type": "execute_result",
          "data": {
            "text/plain": [
              "torch.Size([1, 6, 26, 26])"
            ]
          },
          "metadata": {},
          "execution_count": 33
        }
      ]
    },
    {
      "cell_type": "code",
      "source": [
        "# pass thur the pooling layer\n",
        "x = F.max_pool2d(x,2,2) # kernal of 2 and stride of 2\n"
      ],
      "metadata": {
        "id": "1etnB77tu7wL"
      },
      "execution_count": 34,
      "outputs": []
    },
    {
      "cell_type": "code",
      "source": [
        "x.shape"
      ],
      "metadata": {
        "colab": {
          "base_uri": "https://localhost:8080/"
        },
        "id": "dBuj1viqvyP6",
        "outputId": "370fc2fd-4cdb-43ab-cef1-4c178c4090b3"
      },
      "execution_count": 35,
      "outputs": [
        {
          "output_type": "execute_result",
          "data": {
            "text/plain": [
              "torch.Size([1, 6, 13, 13])"
            ]
          },
          "metadata": {},
          "execution_count": 35
        }
      ]
    },
    {
      "cell_type": "code",
      "source": [
        "# Do our second convolutional layer\n",
        "x =F.relu(conv2(x))"
      ],
      "metadata": {
        "id": "tinFXuBUvzii"
      },
      "execution_count": 36,
      "outputs": []
    },
    {
      "cell_type": "code",
      "source": [
        "x.shape"
      ],
      "metadata": {
        "colab": {
          "base_uri": "https://localhost:8080/"
        },
        "id": "v3POaJFKwF2r",
        "outputId": "6cef2548-107e-46f8-e207-a695ffa27914"
      },
      "execution_count": 37,
      "outputs": [
        {
          "output_type": "execute_result",
          "data": {
            "text/plain": [
              "torch.Size([1, 16, 11, 11])"
            ]
          },
          "metadata": {},
          "execution_count": 37
        }
      ]
    },
    {
      "cell_type": "code",
      "source": [
        "# pooling layer\n",
        "x = F.max_pool2d(x,2,2)"
      ],
      "metadata": {
        "id": "S1W46vawwHdq"
      },
      "execution_count": 38,
      "outputs": []
    },
    {
      "cell_type": "code",
      "source": [
        "x.shape"
      ],
      "metadata": {
        "colab": {
          "base_uri": "https://localhost:8080/"
        },
        "id": "Yb9e3a25wVT4",
        "outputId": "b68e97a9-a7c4-4ca0-c0ee-2a1b54075e2e"
      },
      "execution_count": 39,
      "outputs": [
        {
          "output_type": "execute_result",
          "data": {
            "text/plain": [
              "torch.Size([1, 16, 5, 5])"
            ]
          },
          "metadata": {},
          "execution_count": 39
        }
      ]
    },
    {
      "cell_type": "code",
      "source": [
        "# Model class\n",
        "class Convolutional(nn.Module):\n",
        "  def __init__(self):\n",
        "    super().__init__()\n",
        "    self.conv1 = nn.Conv2d(1,6,3,1)\n",
        "    self.conv2 = nn.Conv2d(6,16,3,1)\n",
        "    # Fully connected layer\n",
        "    self.fc1 = nn.Linear(5*5*16,120)\n",
        "    self.fc2 = nn.Linear(120,84)\n",
        "    self.fc3 = nn.Linear(84,10)\n",
        "\n",
        "  def forward(self,X):\n",
        "    X = F.relu(self.conv1(X))\n",
        "    X = F.max_pool2d(X,2,2) # 2X2 kernal and stride 2\n",
        "\n",
        "    # Second pass\n",
        "    X = F.relu(self.conv2(X))\n",
        "    X = F.max_pool2d(X,2,2)\n",
        "\n",
        "    # Re-view to flaten it out\n",
        "    X = X.view(-1,16*5*5) # negative one so that we can vary the batch size\n",
        "\n",
        "    # Fully Connected Layers\n",
        "    X = F.relu(self.fc1(X))\n",
        "    X = F.relu(self.fc2(X))\n",
        "    X = F.relu(self.fc3(X))\n",
        "\n",
        "    return F.log_softmax(X,dim=1)\n"
      ],
      "metadata": {
        "id": "pTIpoJSKwWHT"
      },
      "execution_count": 41,
      "outputs": []
    },
    {
      "cell_type": "code",
      "source": [
        "# Create an instence of our model\n",
        "torch.manual_seed(41)\n",
        "model = Convolutional()\n",
        "model"
      ],
      "metadata": {
        "colab": {
          "base_uri": "https://localhost:8080/"
        },
        "id": "0Tk6vfUf6ELg",
        "outputId": "a6162df3-80de-4cd1-c7c1-bd87c5162b26"
      },
      "execution_count": 42,
      "outputs": [
        {
          "output_type": "execute_result",
          "data": {
            "text/plain": [
              "Convolutional(\n",
              "  (conv1): Conv2d(1, 6, kernel_size=(3, 3), stride=(1, 1))\n",
              "  (conv2): Conv2d(6, 16, kernel_size=(3, 3), stride=(1, 1))\n",
              "  (fc1): Linear(in_features=400, out_features=120, bias=True)\n",
              "  (fc2): Linear(in_features=120, out_features=84, bias=True)\n",
              "  (fc3): Linear(in_features=84, out_features=10, bias=True)\n",
              ")"
            ]
          },
          "metadata": {},
          "execution_count": 42
        }
      ]
    },
    {
      "cell_type": "code",
      "source": [
        "# Loss function Optimizer\n",
        "criterion  = nn.CrossEntropyLoss()\n",
        "optimizer = torch.optim.Adam(model.parameters(),lr = 0.001)\n"
      ],
      "metadata": {
        "id": "lymBPMoa6Wyl"
      },
      "execution_count": 44,
      "outputs": []
    },
    {
      "cell_type": "code",
      "source": [
        "import time\n",
        "state_time = time.time()\n",
        "\n",
        "# Create Variables to tracks Things\n",
        "epochs = 5\n",
        "train_losses = []\n",
        "test_losses = []\n",
        "train_correct = []\n",
        "test_correct = []\n",
        "\n",
        "# for loo- of Epochs\n",
        "for i in range(epochs):\n",
        "  trn_corr = 0\n",
        "  tst_corr = 0\n",
        "\n",
        "#Train\n",
        "  for b, (x_train,y_train) in enumerate(train_loader):\n",
        "    b+=1\n",
        "    y_pred = model(x_train)\n",
        "    loss = criterion(y_pred, y_train)\n",
        "\n",
        "    predicted = torch.max(y_pred.data,1)[1]\n",
        "    batch_corr = (predicted == y_train).sum()\n",
        "\n",
        "    trn_corr +=batch_corr\n",
        "\n",
        "    optimizer.zero_grad()\n",
        "    loss.backward()\n",
        "    optimizer.step()\n",
        "\n",
        "\n",
        "    if b%600==0:\n",
        "      print(f'Epoch: {i} Batch: {b} Loss: {loss.item()}')\n",
        "  train_losses.append(loss)\n",
        "  train_correct.append(trn_corr)\n",
        "\n",
        "  #test\n",
        "  with torch.no_grad():\n",
        "    for b, (x_test, y_test) in enumerate(test_loader):\n",
        "      y_val = model(x_test)\n",
        "      predicted = torch.max(y_val.data,1)[1]\n",
        "      tst_corr += (predicted == y_test).sum()\n",
        "\n",
        "  loss = criterion(y_val, y_test)\n",
        "  test_losses.append(loss)\n",
        "  test_correct.append(tst_corr)\n",
        "\n",
        "\n",
        "\n",
        "current_time = time.time()\n",
        "total = current_time -state_time\n",
        "print(f'Training ime: {total/60} mintues')"
      ],
      "metadata": {
        "colab": {
          "base_uri": "https://localhost:8080/"
        },
        "id": "1d4aUSzu6zsw",
        "outputId": "b45f8e71-f66a-4a33-f7e4-7b76ef75a952"
      },
      "execution_count": 48,
      "outputs": [
        {
          "output_type": "stream",
          "name": "stdout",
          "text": [
            "Epoch: 0 Batch: 600 Loss: 1.1829028129577637\n",
            "Epoch: 0 Batch: 1200 Loss: 0.5947456359863281\n",
            "Epoch: 0 Batch: 1800 Loss: 1.0738856792449951\n",
            "Epoch: 0 Batch: 2400 Loss: 0.4609503746032715\n",
            "Epoch: 0 Batch: 3000 Loss: 0.7174612283706665\n",
            "Epoch: 1 Batch: 600 Loss: 0.34763291478157043\n",
            "Epoch: 1 Batch: 1200 Loss: 0.8094371557235718\n",
            "Epoch: 1 Batch: 1800 Loss: 0.585239052772522\n",
            "Epoch: 1 Batch: 2400 Loss: 0.576702892780304\n",
            "Epoch: 1 Batch: 3000 Loss: 0.5077216625213623\n",
            "Epoch: 2 Batch: 600 Loss: 0.4984639286994934\n",
            "Epoch: 2 Batch: 1200 Loss: 0.46156901121139526\n",
            "Epoch: 2 Batch: 1800 Loss: 0.34775876998901367\n",
            "Epoch: 2 Batch: 2400 Loss: 1.3818501234054565\n",
            "Epoch: 2 Batch: 3000 Loss: 0.9216144680976868\n",
            "Epoch: 3 Batch: 600 Loss: 0.34646502137184143\n",
            "Epoch: 3 Batch: 1200 Loss: 0.6949332356452942\n",
            "Epoch: 3 Batch: 1800 Loss: 0.6497957110404968\n",
            "Epoch: 3 Batch: 2400 Loss: 1.3821234703063965\n",
            "Epoch: 3 Batch: 3000 Loss: 0.575720489025116\n",
            "Epoch: 4 Batch: 600 Loss: 0.6910213232040405\n",
            "Epoch: 4 Batch: 1200 Loss: 0.4610239863395691\n",
            "Epoch: 4 Batch: 1800 Loss: 0.9212591052055359\n",
            "Epoch: 4 Batch: 2400 Loss: 0.8068210482597351\n",
            "Epoch: 4 Batch: 3000 Loss: 1.151344895362854\n",
            "Training ime: 2.7278387983640036 mintues\n"
          ]
        }
      ]
    },
    {
      "cell_type": "code",
      "source": [],
      "metadata": {
        "id": "85B3U8VqC2RG"
      },
      "execution_count": null,
      "outputs": []
    },
    {
      "cell_type": "code",
      "source": [
        "#Graph the loss at epochs\n",
        "train_losses = [t1.item() for t1 in train_losses]\n",
        "plt.plot(train_losses, label = 'Training Loss')\n",
        "plt.plot(test_losses, label = 'Testing loss')\n",
        "plt.title('Loass at Epochs')\n",
        "plt.legend()"
      ],
      "metadata": {
        "colab": {
          "base_uri": "https://localhost:8080/",
          "height": 469
        },
        "id": "YsLJaR6KBXci",
        "outputId": "5f895c18-8b7c-4972-911b-992caf2d1096"
      },
      "execution_count": 49,
      "outputs": [
        {
          "output_type": "execute_result",
          "data": {
            "text/plain": [
              "<matplotlib.legend.Legend at 0x7bfe0cf81c30>"
            ]
          },
          "metadata": {},
          "execution_count": 49
        },
        {
          "output_type": "display_data",
          "data": {
            "text/plain": [
              "<Figure size 640x480 with 1 Axes>"
            ],
            "image/png": "[encoded data removed]"
          },
          "metadata": {}
        }
      ]
    },
    {
      "cell_type": "code",
      "source": [
        "#\n",
        "plt.plot([t/600 for t in train_correct ], label='Traing Accuray')\n",
        "plt.plot([t/600 for t in test_correct], label = 'Test Accuracy')\n",
        "plt.title('Accray at the end of epochs')\n",
        "plt.legend()"
      ],
      "metadata": {
        "colab": {
          "base_uri": "https://localhost:8080/",
          "height": 469
        },
        "id": "dhj7WImTDRY1",
        "outputId": "58150b64-551c-4bbd-a653-02d7a04e9bf2"
      },
      "execution_count": 50,
      "outputs": [
        {
          "output_type": "execute_result",
          "data": {
            "text/plain": [
              "<matplotlib.legend.Legend at 0x7bfe0cf965f0>"
            ]
          },
          "metadata": {},
          "execution_count": 50
        },
        {
          "output_type": "display_data",
          "data": {
            "text/plain": [
              "<Figure size 640x480 with 1 Axes>"
            ],
            "image/png": "[encoded data removed]"
          },
          "metadata": {}
        }
      ]
    },
    {
      "cell_type": "code",
      "source": [
        "test_load_everything = DataLoader(test_data,batch_size=10000,shuffle=False )"
      ],
      "metadata": {
        "id": "hevyxOV2D9U4"
      },
      "execution_count": 51,
      "outputs": []
    },
    {
      "cell_type": "code",
      "source": [
        "with torch.no_grad():\n",
        "  correct = 0\n",
        "  for x_test, y_test in test_load_everything:\n",
        "    y_val = model(x_test)\n",
        "    predicated = torch.max(y_val, 1)[1]\n",
        "    correct += (predicated == y_test).sum()\n"
      ],
      "metadata": {
        "id": "daxB3IuDEgFW"
      },
      "execution_count": 53,
      "outputs": []
    },
    {
      "cell_type": "code",
      "source": [
        "correct.item()/len(test_data)*100"
      ],
      "metadata": {
        "colab": {
          "base_uri": "https://localhost:8080/"
        },
        "id": "miVsREVJE1vf",
        "outputId": "dff6686f-fa62-43a3-b044-a6fc75d8deec"
      },
      "execution_count": 54,
      "outputs": [
        {
          "output_type": "execute_result",
          "data": {
            "text/plain": [
              "67.74"
            ]
          },
          "metadata": {},
          "execution_count": 54
        }
      ]
    },
    {
      "cell_type": "code",
      "source": [],
      "metadata": {
        "id": "GFYSkNWSFoPx"
      },
      "execution_count": null,
      "outputs": []
    }
  ]
}