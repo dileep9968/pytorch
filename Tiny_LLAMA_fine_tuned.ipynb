{
  "nbformat": 4,
  "nbformat_minor": 0,
  "metadata": {
    "colab": {
      "provenance": [],
      "gpuType": "T4",
      "authorship_tag": "ABX9TyMM+5ULtUJMBa7EZg5is0EC",
      "include_colab_link": true
    },
    "kernelspec": {
      "name": "python3",
      "display_name": "Python 3"
    },
    "language_info": {
      "name": "python"
    },
    "accelerator": "GPU",
    "widgets": {
      "application/vnd.jupyter.widget-state+json": {
        "5e83d7e013534e79b918828c511d2ff3": {
          "model_module": "@jupyter-widgets/controls",
          "model_name": "HBoxModel",
          "model_module_version": "1.5.0",
          "state": {
            "_dom_classes": [],
            "_model_module": "@jupyter-widgets/controls",
            "_model_module_version": "1.5.0",
            "_model_name": "HBoxModel",
            "_view_count": null,
            "_view_module": "@jupyter-widgets/controls",
            "_view_module_version": "1.5.0",
            "_view_name": "HBoxView",
            "box_style": "",
            "children": [
              "IPY_MODEL_a09b27e9590e429a83a209828306b43b",
              "IPY_MODEL_10bd9a4a069d43129af16f0f3187c9cc",
              "IPY_MODEL_995187cd8da542a08ef7b9bde88a4d3e"
            ],
            "layout": "IPY_MODEL_e683b3f655c443dc9128cc85bafe9545"
          }
        },
        "a09b27e9590e429a83a209828306b43b": {
          "model_module": "@jupyter-widgets/controls",
          "model_name": "HTMLModel",
          "model_module_version": "1.5.0",
          "state": {
            "_dom_classes": [],
            "_model_module": "@jupyter-widgets/controls",
            "_model_module_version": "1.5.0",
            "_model_name": "HTMLModel",
            "_view_count": null,
            "_view_module": "@jupyter-widgets/controls",
            "_view_module_version": "1.5.0",
            "_view_name": "HTMLView",
            "description": "",
            "description_tooltip": null,
            "layout": "IPY_MODEL_b2163a3f6e3d4ada98d016a183f1d258",
            "placeholder": "​",
            "style": "IPY_MODEL_ec8505a0ac1d4b7f99b27ec05abd85ec",
            "value": "Map:   0%"
          }
        },
        "10bd9a4a069d43129af16f0f3187c9cc": {
          "model_module": "@jupyter-widgets/controls",
          "model_name": "FloatProgressModel",
          "model_module_version": "1.5.0",
          "state": {
            "_dom_classes": [],
            "_model_module": "@jupyter-widgets/controls",
            "_model_module_version": "1.5.0",
            "_model_name": "FloatProgressModel",
            "_view_count": null,
            "_view_module": "@jupyter-widgets/controls",
            "_view_module_version": "1.5.0",
            "_view_name": "ProgressView",
            "bar_style": "danger",
            "description": "",
            "description_tooltip": null,
            "layout": "IPY_MODEL_c144220e8d5d4ce19f69ed554c91b076",
            "max": 10000,
            "min": 0,
            "orientation": "horizontal",
            "style": "IPY_MODEL_2018c50b7c3047049d13f4ce4ee87df7",
            "value": 0
          }
        },
        "995187cd8da542a08ef7b9bde88a4d3e": {
          "model_module": "@jupyter-widgets/controls",
          "model_name": "HTMLModel",
          "model_module_version": "1.5.0",
          "state": {
            "_dom_classes": [],
            "_model_module": "@jupyter-widgets/controls",
            "_model_module_version": "1.5.0",
            "_model_name": "HTMLModel",
            "_view_count": null,
            "_view_module": "@jupyter-widgets/controls",
            "_view_module_version": "1.5.0",
            "_view_name": "HTMLView",
            "description": "",
            "description_tooltip": null,
            "layout": "IPY_MODEL_ac6e9581b2e4464f8e4242378541b80c",
            "placeholder": "​",
            "style": "IPY_MODEL_513668ec186f4621ba16667e8fb25b9f",
            "value": " 0/10000 [00:00&lt;?, ? examples/s]"
          }
        },
        "e683b3f655c443dc9128cc85bafe9545": {
          "model_module": "@jupyter-widgets/base",
          "model_name": "LayoutModel",
          "model_module_version": "1.2.0",
          "state": {
            "_model_module": "@jupyter-widgets/base",
            "_model_module_version": "1.2.0",
            "_model_name": "LayoutModel",
            "_view_count": null,
            "_view_module": "@jupyter-widgets/base",
            "_view_module_version": "1.2.0",
            "_view_name": "LayoutView",
            "align_content": null,
            "align_items": null,
            "align_self": null,
            "border": null,
            "bottom": null,
            "display": null,
            "flex": null,
            "flex_flow": null,
            "grid_area": null,
            "grid_auto_columns": null,
            "grid_auto_flow": null,
            "grid_auto_rows": null,
            "grid_column": null,
            "grid_gap": null,
            "grid_row": null,
            "grid_template_areas": null,
            "grid_template_columns": null,
            "grid_template_rows": null,
            "height": null,
            "justify_content": null,
            "justify_items": null,
            "left": null,
            "margin": null,
            "max_height": null,
            "max_width": null,
            "min_height": null,
            "min_width": null,
            "object_fit": null,
            "object_position": null,
            "order": null,
            "overflow": null,
            "overflow_x": null,
            "overflow_y": null,
            "padding": null,
            "right": null,
            "top": null,
            "visibility": null,
            "width": null
          }
        },
        "b2163a3f6e3d4ada98d016a183f1d258": {
          "model_module": "@jupyter-widgets/base",
          "model_name": "LayoutModel",
          "model_module_version": "1.2.0",
          "state": {
            "_model_module": "@jupyter-widgets/base",
            "_model_module_version": "1.2.0",
            "_model_name": "LayoutModel",
            "_view_count": null,
            "_view_module": "@jupyter-widgets/base",
            "_view_module_version": "1.2.0",
            "_view_name": "LayoutView",
            "align_content": null,
            "align_items": null,
            "align_self": null,
            "border": null,
            "bottom": null,
            "display": null,
            "flex": null,
            "flex_flow": null,
            "grid_area": null,
            "grid_auto_columns": null,
            "grid_auto_flow": null,
            "grid_auto_rows": null,
            "grid_column": null,
            "grid_gap": null,
            "grid_row": null,
            "grid_template_areas": null,
            "grid_template_columns": null,
            "grid_template_rows": null,
            "height": null,
            "justify_content": null,
            "justify_items": null,
            "left": null,
            "margin": null,
            "max_height": null,
            "max_width": null,
            "min_height": null,
            "min_width": null,
            "object_fit": null,
            "object_position": null,
            "order": null,
            "overflow": null,
            "overflow_x": null,
            "overflow_y": null,
            "padding": null,
            "right": null,
            "top": null,
            "visibility": null,
            "width": null
          }
        },
        "ec8505a0ac1d4b7f99b27ec05abd85ec": {
          "model_module": "@jupyter-widgets/controls",
          "model_name": "DescriptionStyleModel",
          "model_module_version": "1.5.0",
          "state": {
            "_model_module": "@jupyter-widgets/controls",
            "_model_module_version": "1.5.0",
            "_model_name": "DescriptionStyleModel",
            "_view_count": null,
            "_view_module": "@jupyter-widgets/base",
            "_view_module_version": "1.2.0",
            "_view_name": "StyleView",
            "description_width": ""
          }
        },
        "c144220e8d5d4ce19f69ed554c91b076": {
          "model_module": "@jupyter-widgets/base",
          "model_name": "LayoutModel",
          "model_module_version": "1.2.0",
          "state": {
            "_model_module": "@jupyter-widgets/base",
            "_model_module_version": "1.2.0",
            "_model_name": "LayoutModel",
            "_view_count": null,
            "_view_module": "@jupyter-widgets/base",
            "_view_module_version": "1.2.0",
            "_view_name": "LayoutView",
            "align_content": null,
            "align_items": null,
            "align_self": null,
            "border": null,
            "bottom": null,
            "display": null,
            "flex": null,
            "flex_flow": null,
            "grid_area": null,
            "grid_auto_columns": null,
            "grid_auto_flow": null,
            "grid_auto_rows": null,
            "grid_column": null,
            "grid_gap": null,
            "grid_row": null,
            "grid_template_areas": null,
            "grid_template_columns": null,
            "grid_template_rows": null,
            "height": null,
            "justify_content": null,
            "justify_items": null,
            "left": null,
            "margin": null,
            "max_height": null,
            "max_width": null,
            "min_height": null,
            "min_width": null,
            "object_fit": null,
            "object_position": null,
            "order": null,
            "overflow": null,
            "overflow_x": null,
            "overflow_y": null,
            "padding": null,
            "right": null,
            "top": null,
            "visibility": null,
            "width": null
          }
        },
        "2018c50b7c3047049d13f4ce4ee87df7": {
          "model_module": "@jupyter-widgets/controls",
          "model_name": "ProgressStyleModel",
          "model_module_version": "1.5.0",
          "state": {
            "_model_module": "@jupyter-widgets/controls",
            "_model_module_version": "1.5.0",
            "_model_name": "ProgressStyleModel",
            "_view_count": null,
            "_view_module": "@jupyter-widgets/base",
            "_view_module_version": "1.2.0",
            "_view_name": "StyleView",
            "bar_color": null,
            "description_width": ""
          }
        },
        "ac6e9581b2e4464f8e4242378541b80c": {
          "model_module": "@jupyter-widgets/base",
          "model_name": "LayoutModel",
          "model_module_version": "1.2.0",
          "state": {
            "_model_module": "@jupyter-widgets/base",
            "_model_module_version": "1.2.0",
            "_model_name": "LayoutModel",
            "_view_count": null,
            "_view_module": "@jupyter-widgets/base",
            "_view_module_version": "1.2.0",
            "_view_name": "LayoutView",
            "align_content": null,
            "align_items": null,
            "align_self": null,
            "border": null,
            "bottom": null,
            "display": null,
            "flex": null,
            "flex_flow": null,
            "grid_area": null,
            "grid_auto_columns": null,
            "grid_auto_flow": null,
            "grid_auto_rows": null,
            "grid_column": null,
            "grid_gap": null,
            "grid_row": null,
            "grid_template_areas": null,
            "grid_template_columns": null,
            "grid_template_rows": null,
            "height": null,
            "justify_content": null,
            "justify_items": null,
            "left": null,
            "margin": null,
            "max_height": null,
            "max_width": null,
            "min_height": null,
            "min_width": null,
            "object_fit": null,
            "object_position": null,
            "order": null,
            "overflow": null,
            "overflow_x": null,
            "overflow_y": null,
            "padding": null,
            "right": null,
            "top": null,
            "visibility": null,
            "width": null
          }
        },
        "513668ec186f4621ba16667e8fb25b9f": {
          "model_module": "@jupyter-widgets/controls",
          "model_name": "DescriptionStyleModel",
          "model_module_version": "1.5.0",
          "state": {
            "_model_module": "@jupyter-widgets/controls",
            "_model_module_version": "1.5.0",
            "_model_name": "DescriptionStyleModel",
            "_view_count": null,
            "_view_module": "@jupyter-widgets/base",
            "_view_module_version": "1.2.0",
            "_view_name": "StyleView",
            "description_width": ""
          }
        }
      }
    }
  },
  "cells": [
    {
      "cell_type": "markdown",
      "metadata": {
        "id": "view-in-github",
        "colab_type": "text"
      },
      "source": [
        "<a href=\"https://colab.research.google.com/github/dileep9968/pytorch/blob/main/Tiny_LLAMA_fine_tuned.ipynb\" target=\"_parent\"><img src=\"https://colab.research.google.com/assets/colab-badge.svg\" alt=\"Open In Colab\"/></a>"
      ]
    },
    {
      "cell_type": "code",
      "execution_count": 1,
      "metadata": {
        "id": "7IxiioMtijUJ"
      },
      "outputs": [],
      "source": [
        "!pip install -q accelerate -U\n",
        "!pip install -q bitsandbytes -U\n",
        "!pip install -q trl -U\n",
        "!pip install -q peft -U\n",
        "!pip install -q transformers -U"
      ]
    },
    {
      "cell_type": "code",
      "source": [
        "from datasets import load_dataset\n",
        "dataset = load_dataset('HuggingFaceH4/ultrachat_200k',\n",
        "                       trust_remote_code=True,\n",
        "                       split = 'train_sft')\n",
        "dataset = dataset.shuffle(seed=0).select(range(10_000))\n",
        "dataset"
      ],
      "metadata": {
        "colab": {
          "base_uri": "https://localhost:8080/"
        },
        "id": "2kVnwU1BjCdg",
        "outputId": "839eaae3-9c84-42c8-9eaa-9a2a58fd835b"
      },
      "execution_count": 2,
      "outputs": [
        {
          "output_type": "execute_result",
          "data": {
            "text/plain": [
              "Dataset({\n",
              "    features: ['prompt', 'prompt_id', 'messages'],\n",
              "    num_rows: 10000\n",
              "})"
            ]
          },
          "metadata": {},
          "execution_count": 2
        }
      ]
    },
    {
      "cell_type": "code",
      "source": [
        "dataset[0]"
      ],
      "metadata": {
        "colab": {
          "base_uri": "https://localhost:8080/"
        },
        "id": "ioLm7jiTjmQ6",
        "outputId": "fdc002f8-3cf1-419c-fe62-9023df3a213a"
      },
      "execution_count": 3,
      "outputs": [
        {
          "output_type": "execute_result",
          "data": {
            "text/plain": [
              "{'prompt': '3. Heat the vegetables in boiling water for the recommended time.',\n",
              " 'prompt_id': '827b4bc3c5d8646e574bd741d65f7de92057be4f1fb1a4456d5f136cf7397568',\n",
              " 'messages': [{'content': '3. Heat the vegetables in boiling water for the recommended time.',\n",
              "   'role': 'user'},\n",
              "  {'content': 'I do not have information about the specific type of vegetables being referred to. However, here are general instructions for boiling most vegetables:\\n\\n1. Wash the vegetables thoroughly with clean water.\\n2. Cut the vegetables into small or medium-sized pieces.\\n3. Bring a pot of water to boil on the stove.\\n4. Add a pinch of salt to the boiling water.\\n5. Add the vegetables to the boiling water.\\n6. Cook the vegetables for the recommended time (see cooking instructions on the package or look up cooking times for specific vegetables online).\\n7. Test the vegetables for doneness using a fork or a knife. They should be tender but not overcooked and mushy.\\n8. Once the vegetables are cooked to your desired tenderness, remove them from the boiling water using a slotted spoon or a strainer.\\n9. Drain the vegetables and serve hot with your favorite seasonings or sauce.',\n",
              "   'role': 'assistant'},\n",
              "  {'content': 'Can you add some information on how to prevent the vegetables from getting too soft or overcooked?',\n",
              "   'role': 'user'},\n",
              "  {'content': \"Certainly, here are some tips to prevent vegetables from getting too soft or overcooked:\\n\\n1. Use fresh vegetables: Fresh vegetables require less cooking time and retain their texture and flavor better than older vegetables. 2. Cut vegetables into uniform-sized pieces: Cutting the vegetables into one-inch or uniform-sized pieces helps to ensure even cooking. 3. Use a timer: Set a timer according to the recommended cooking time for the vegetable you're cooking. Overcooking can cause vegetables to become mushy. 4. Taste test: Test the vegetables a few minutes before the recommended cooking time is over. If the vegetable is tender and cooked, remove it from the heat. 5. Use cold water to stop cooking: After cooking, drain the vegetable immediately and run it under cold water to stop the cooking process. 6. Avoid overcrowding the pot: Overcrowding can make the vegetables cook unevenly and take longer to cook. 7. Use steaming or blanching method: Try steaming or blanching instead of boiling to preserve the texture of the vegetables. With these tips, you should be able to cook vegetables that are firm, tender and full of flavor.\",\n",
              "   'role': 'assistant'},\n",
              "  {'content': 'Could you also give me some suggestions on what types of seasoning or sauce I could use to make my veggies taste better?',\n",
              "   'role': 'user'},\n",
              "  {'content': \"Certainly! When it comes to seasoning or saucing vegetables, there are endless possibilities. Here are some ideas to make your vegetables taste better:\\n\\n1. Olive Oil and Lemon Juice: A classic Italian seasoning, pour some olive oil and a splash of lemon juice over your veggies for a zesty, tangy flavor. 2. Soy Sauce and Ginger: Mix soy sauce and grated ginger for an Asian inspired seasoning that'll give your vegetables a salty kick. 3. Garlic and Herbs: Mix minced garlic and fresh herbs, like parsley, rosemary or thyme, with olive oil and salt for a Mediterranean seasoning. 4. Balsamic Vinegar: Drizzle balsamic vinegar over your cooked vegetables for a rich, earthy flavor. 5. Parmesan Cheese: Shave some parmesan cheese over your veggies for a nutty, salty addition. 6. Pesto: Mix basil pesto with some olive oil and add to your vegetables for a flavorful, tangy kick. 7. Tahini Sauce: Mix tahini, lemon juice and garlic in a bowl, add some water for a creamy tahini sauce that complements any veggies. These are just a few seasoning ideas. Get creative and try your own spice combinations. Adding seasoning or sauce can make your vegetables taste delicious and exciting!\",\n",
              "   'role': 'assistant'},\n",
              "  {'content': 'These seasoning ideas are amazing! Can you give me some more ideas on how to cook veggies in a healthy and flavorful way?',\n",
              "   'role': 'user'},\n",
              "  {'content': \"Of course, here are a few more ideas on how to cook your veggies in a healthy and flavorful way:\\n\\n1. Roasting: Roasting your vegetables is an easy and healthy way to bring out their natural flavors. Preheat your oven to 400F, toss your veggies with a little bit of olive oil, salt and pepper, and roast them for 20-30 minutes.\\n\\n2. Grilling: Grilling is a great way to cook vegetables during summer. Cut your veggies into large pieces, brush them with olive oil, season with salt and pepper, and grill them for a few minutes on each side.\\n\\n3. Stir-frying: Stir-frying is a quick and healthy way to cook vegetables. Heat some oil in a wok or a pan, add your chopped veggies, and stir-fry them for a few minutes until they're tender yet crisp. Add some soy sauce, ginger or garlic for extra flavor.\\n\\n4. Steaming: Steaming is a healthy cooking method that preserves the complete nutrition and texture. Place your veggies in a steamer basket, and steam them for 5-7 minutes, season them with herbs, butter or lemon juice.\\n\\n5. Sautéing: Sautéed vegetables can be a hearty side dish or served as the main course. Heat some butter or olive oil in a pan, add your chopped veggies and sauté them for a few minutes until they're tender yet crisp. Add some herbs, salt or spices for extra flavor.\\n\\nThese are just a few cooking ideas. Regardless of how you cook your veggies, remember to use fresh produce, experiment different spices and enjoy their natural flavors!\",\n",
              "   'role': 'assistant'}]}"
            ]
          },
          "metadata": {},
          "execution_count": 3
        }
      ]
    },
    {
      "cell_type": "code",
      "source": [
        "from transformers import AutoTokenizer\n",
        "\n",
        "template_tokenizer = AutoTokenizer.from_pretrained(\n",
        "    'TinyLlama/TinyLlama-1.1B-Chat-v1.0'\n",
        ")\n",
        "template_tokenizer"
      ],
      "metadata": {
        "colab": {
          "base_uri": "https://localhost:8080/"
        },
        "id": "xi__EjUDlN_R",
        "outputId": "93d03224-a21d-4c74-8709-eb483414ca47"
      },
      "execution_count": 4,
      "outputs": [
        {
          "output_type": "execute_result",
          "data": {
            "text/plain": [
              "LlamaTokenizerFast(name_or_path='TinyLlama/TinyLlama-1.1B-Chat-v1.0', vocab_size=32000, model_max_length=2048, is_fast=True, padding_side='right', truncation_side='right', special_tokens={'bos_token': '<s>', 'eos_token': '</s>', 'unk_token': '<unk>', 'pad_token': '</s>'}, clean_up_tokenization_spaces=False, added_tokens_decoder={\n",
              "\t0: AddedToken(\"<unk>\", rstrip=False, lstrip=False, single_word=False, normalized=False, special=True),\n",
              "\t1: AddedToken(\"<s>\", rstrip=False, lstrip=False, single_word=False, normalized=False, special=True),\n",
              "\t2: AddedToken(\"</s>\", rstrip=False, lstrip=False, single_word=False, normalized=False, special=True),\n",
              "}\n",
              ")"
            ]
          },
          "metadata": {},
          "execution_count": 4
        }
      ]
    },
    {
      "cell_type": "code",
      "source": [
        "def format_prompt(example):\n",
        "  \"\"\"Format the prompt using the <|user|> and <|assistant|> format\"\"\"\n",
        "  chat = example['messages']\n",
        "  prompt = template_tokenizer.apply_chat_template(chat,\n",
        "                                                  tokenize=False,\n",
        "                                                  add_generation_prompt=True)\n",
        "  return {'text': prompt}\n",
        "\n",
        "dataset = dataset.map(format_prompt)\n",
        "print(format_prompt(dataset[0])['text'])"
      ],
      "metadata": {
        "colab": {
          "base_uri": "https://localhost:8080/"
        },
        "id": "I2P-28T-lng-",
        "outputId": "0bf641e6-c524-481e-e06f-0a3bcc734b19"
      },
      "execution_count": 5,
      "outputs": [
        {
          "output_type": "stream",
          "name": "stdout",
          "text": [
            "<|user|>\n",
            "3. Heat the vegetables in boiling water for the recommended time.</s>\n",
            "<|assistant|>\n",
            "I do not have information about the specific type of vegetables being referred to. However, here are general instructions for boiling most vegetables:\n",
            "\n",
            "1. Wash the vegetables thoroughly with clean water.\n",
            "2. Cut the vegetables into small or medium-sized pieces.\n",
            "3. Bring a pot of water to boil on the stove.\n",
            "4. Add a pinch of salt to the boiling water.\n",
            "5. Add the vegetables to the boiling water.\n",
            "6. Cook the vegetables for the recommended time (see cooking instructions on the package or look up cooking times for specific vegetables online).\n",
            "7. Test the vegetables for doneness using a fork or a knife. They should be tender but not overcooked and mushy.\n",
            "8. Once the vegetables are cooked to your desired tenderness, remove them from the boiling water using a slotted spoon or a strainer.\n",
            "9. Drain the vegetables and serve hot with your favorite seasonings or sauce.</s>\n",
            "<|user|>\n",
            "Can you add some information on how to prevent the vegetables from getting too soft or overcooked?</s>\n",
            "<|assistant|>\n",
            "Certainly, here are some tips to prevent vegetables from getting too soft or overcooked:\n",
            "\n",
            "1. Use fresh vegetables: Fresh vegetables require less cooking time and retain their texture and flavor better than older vegetables. 2. Cut vegetables into uniform-sized pieces: Cutting the vegetables into one-inch or uniform-sized pieces helps to ensure even cooking. 3. Use a timer: Set a timer according to the recommended cooking time for the vegetable you're cooking. Overcooking can cause vegetables to become mushy. 4. Taste test: Test the vegetables a few minutes before the recommended cooking time is over. If the vegetable is tender and cooked, remove it from the heat. 5. Use cold water to stop cooking: After cooking, drain the vegetable immediately and run it under cold water to stop the cooking process. 6. Avoid overcrowding the pot: Overcrowding can make the vegetables cook unevenly and take longer to cook. 7. Use steaming or blanching method: Try steaming or blanching instead of boiling to preserve the texture of the vegetables. With these tips, you should be able to cook vegetables that are firm, tender and full of flavor.</s>\n",
            "<|user|>\n",
            "Could you also give me some suggestions on what types of seasoning or sauce I could use to make my veggies taste better?</s>\n",
            "<|assistant|>\n",
            "Certainly! When it comes to seasoning or saucing vegetables, there are endless possibilities. Here are some ideas to make your vegetables taste better:\n",
            "\n",
            "1. Olive Oil and Lemon Juice: A classic Italian seasoning, pour some olive oil and a splash of lemon juice over your veggies for a zesty, tangy flavor. 2. Soy Sauce and Ginger: Mix soy sauce and grated ginger for an Asian inspired seasoning that'll give your vegetables a salty kick. 3. Garlic and Herbs: Mix minced garlic and fresh herbs, like parsley, rosemary or thyme, with olive oil and salt for a Mediterranean seasoning. 4. Balsamic Vinegar: Drizzle balsamic vinegar over your cooked vegetables for a rich, earthy flavor. 5. Parmesan Cheese: Shave some parmesan cheese over your veggies for a nutty, salty addition. 6. Pesto: Mix basil pesto with some olive oil and add to your vegetables for a flavorful, tangy kick. 7. Tahini Sauce: Mix tahini, lemon juice and garlic in a bowl, add some water for a creamy tahini sauce that complements any veggies. These are just a few seasoning ideas. Get creative and try your own spice combinations. Adding seasoning or sauce can make your vegetables taste delicious and exciting!</s>\n",
            "<|user|>\n",
            "These seasoning ideas are amazing! Can you give me some more ideas on how to cook veggies in a healthy and flavorful way?</s>\n",
            "<|assistant|>\n",
            "Of course, here are a few more ideas on how to cook your veggies in a healthy and flavorful way:\n",
            "\n",
            "1. Roasting: Roasting your vegetables is an easy and healthy way to bring out their natural flavors. Preheat your oven to 400F, toss your veggies with a little bit of olive oil, salt and pepper, and roast them for 20-30 minutes.\n",
            "\n",
            "2. Grilling: Grilling is a great way to cook vegetables during summer. Cut your veggies into large pieces, brush them with olive oil, season with salt and pepper, and grill them for a few minutes on each side.\n",
            "\n",
            "3. Stir-frying: Stir-frying is a quick and healthy way to cook vegetables. Heat some oil in a wok or a pan, add your chopped veggies, and stir-fry them for a few minutes until they're tender yet crisp. Add some soy sauce, ginger or garlic for extra flavor.\n",
            "\n",
            "4. Steaming: Steaming is a healthy cooking method that preserves the complete nutrition and texture. Place your veggies in a steamer basket, and steam them for 5-7 minutes, season them with herbs, butter or lemon juice.\n",
            "\n",
            "5. Sautéing: Sautéed vegetables can be a hearty side dish or served as the main course. Heat some butter or olive oil in a pan, add your chopped veggies and sauté them for a few minutes until they're tender yet crisp. Add some herbs, salt or spices for extra flavor.\n",
            "\n",
            "These are just a few cooking ideas. Regardless of how you cook your veggies, remember to use fresh produce, experiment different spices and enjoy their natural flavors!</s>\n",
            "<|assistant|>\n",
            "\n"
          ]
        }
      ]
    },
    {
      "cell_type": "code",
      "source": [
        "dataset = dataset.map(format_prompt)"
      ],
      "metadata": {
        "id": "gkX9-iiMoK-W"
      },
      "execution_count": 6,
      "outputs": []
    },
    {
      "cell_type": "code",
      "source": [
        "dataset[0]"
      ],
      "metadata": {
        "colab": {
          "base_uri": "https://localhost:8080/"
        },
        "id": "nctqNfWVoby9",
        "outputId": "dd045efe-49cd-4699-dd05-466b0f50bc4a"
      },
      "execution_count": 7,
      "outputs": [
        {
          "output_type": "execute_result",
          "data": {
            "text/plain": [
              "{'prompt': '3. Heat the vegetables in boiling water for the recommended time.',\n",
              " 'prompt_id': '827b4bc3c5d8646e574bd741d65f7de92057be4f1fb1a4456d5f136cf7397568',\n",
              " 'messages': [{'content': '3. Heat the vegetables in boiling water for the recommended time.',\n",
              "   'role': 'user'},\n",
              "  {'content': 'I do not have information about the specific type of vegetables being referred to. However, here are general instructions for boiling most vegetables:\\n\\n1. Wash the vegetables thoroughly with clean water.\\n2. Cut the vegetables into small or medium-sized pieces.\\n3. Bring a pot of water to boil on the stove.\\n4. Add a pinch of salt to the boiling water.\\n5. Add the vegetables to the boiling water.\\n6. Cook the vegetables for the recommended time (see cooking instructions on the package or look up cooking times for specific vegetables online).\\n7. Test the vegetables for doneness using a fork or a knife. They should be tender but not overcooked and mushy.\\n8. Once the vegetables are cooked to your desired tenderness, remove them from the boiling water using a slotted spoon or a strainer.\\n9. Drain the vegetables and serve hot with your favorite seasonings or sauce.',\n",
              "   'role': 'assistant'},\n",
              "  {'content': 'Can you add some information on how to prevent the vegetables from getting too soft or overcooked?',\n",
              "   'role': 'user'},\n",
              "  {'content': \"Certainly, here are some tips to prevent vegetables from getting too soft or overcooked:\\n\\n1. Use fresh vegetables: Fresh vegetables require less cooking time and retain their texture and flavor better than older vegetables. 2. Cut vegetables into uniform-sized pieces: Cutting the vegetables into one-inch or uniform-sized pieces helps to ensure even cooking. 3. Use a timer: Set a timer according to the recommended cooking time for the vegetable you're cooking. Overcooking can cause vegetables to become mushy. 4. Taste test: Test the vegetables a few minutes before the recommended cooking time is over. If the vegetable is tender and cooked, remove it from the heat. 5. Use cold water to stop cooking: After cooking, drain the vegetable immediately and run it under cold water to stop the cooking process. 6. Avoid overcrowding the pot: Overcrowding can make the vegetables cook unevenly and take longer to cook. 7. Use steaming or blanching method: Try steaming or blanching instead of boiling to preserve the texture of the vegetables. With these tips, you should be able to cook vegetables that are firm, tender and full of flavor.\",\n",
              "   'role': 'assistant'},\n",
              "  {'content': 'Could you also give me some suggestions on what types of seasoning or sauce I could use to make my veggies taste better?',\n",
              "   'role': 'user'},\n",
              "  {'content': \"Certainly! When it comes to seasoning or saucing vegetables, there are endless possibilities. Here are some ideas to make your vegetables taste better:\\n\\n1. Olive Oil and Lemon Juice: A classic Italian seasoning, pour some olive oil and a splash of lemon juice over your veggies for a zesty, tangy flavor. 2. Soy Sauce and Ginger: Mix soy sauce and grated ginger for an Asian inspired seasoning that'll give your vegetables a salty kick. 3. Garlic and Herbs: Mix minced garlic and fresh herbs, like parsley, rosemary or thyme, with olive oil and salt for a Mediterranean seasoning. 4. Balsamic Vinegar: Drizzle balsamic vinegar over your cooked vegetables for a rich, earthy flavor. 5. Parmesan Cheese: Shave some parmesan cheese over your veggies for a nutty, salty addition. 6. Pesto: Mix basil pesto with some olive oil and add to your vegetables for a flavorful, tangy kick. 7. Tahini Sauce: Mix tahini, lemon juice and garlic in a bowl, add some water for a creamy tahini sauce that complements any veggies. These are just a few seasoning ideas. Get creative and try your own spice combinations. Adding seasoning or sauce can make your vegetables taste delicious and exciting!\",\n",
              "   'role': 'assistant'},\n",
              "  {'content': 'These seasoning ideas are amazing! Can you give me some more ideas on how to cook veggies in a healthy and flavorful way?',\n",
              "   'role': 'user'},\n",
              "  {'content': \"Of course, here are a few more ideas on how to cook your veggies in a healthy and flavorful way:\\n\\n1. Roasting: Roasting your vegetables is an easy and healthy way to bring out their natural flavors. Preheat your oven to 400F, toss your veggies with a little bit of olive oil, salt and pepper, and roast them for 20-30 minutes.\\n\\n2. Grilling: Grilling is a great way to cook vegetables during summer. Cut your veggies into large pieces, brush them with olive oil, season with salt and pepper, and grill them for a few minutes on each side.\\n\\n3. Stir-frying: Stir-frying is a quick and healthy way to cook vegetables. Heat some oil in a wok or a pan, add your chopped veggies, and stir-fry them for a few minutes until they're tender yet crisp. Add some soy sauce, ginger or garlic for extra flavor.\\n\\n4. Steaming: Steaming is a healthy cooking method that preserves the complete nutrition and texture. Place your veggies in a steamer basket, and steam them for 5-7 minutes, season them with herbs, butter or lemon juice.\\n\\n5. Sautéing: Sautéed vegetables can be a hearty side dish or served as the main course. Heat some butter or olive oil in a pan, add your chopped veggies and sauté them for a few minutes until they're tender yet crisp. Add some herbs, salt or spices for extra flavor.\\n\\nThese are just a few cooking ideas. Regardless of how you cook your veggies, remember to use fresh produce, experiment different spices and enjoy their natural flavors!\",\n",
              "   'role': 'assistant'}],\n",
              " 'text': \"<|user|>\\n3. Heat the vegetables in boiling water for the recommended time.</s>\\n<|assistant|>\\nI do not have information about the specific type of vegetables being referred to. However, here are general instructions for boiling most vegetables:\\n\\n1. Wash the vegetables thoroughly with clean water.\\n2. Cut the vegetables into small or medium-sized pieces.\\n3. Bring a pot of water to boil on the stove.\\n4. Add a pinch of salt to the boiling water.\\n5. Add the vegetables to the boiling water.\\n6. Cook the vegetables for the recommended time (see cooking instructions on the package or look up cooking times for specific vegetables online).\\n7. Test the vegetables for doneness using a fork or a knife. They should be tender but not overcooked and mushy.\\n8. Once the vegetables are cooked to your desired tenderness, remove them from the boiling water using a slotted spoon or a strainer.\\n9. Drain the vegetables and serve hot with your favorite seasonings or sauce.</s>\\n<|user|>\\nCan you add some information on how to prevent the vegetables from getting too soft or overcooked?</s>\\n<|assistant|>\\nCertainly, here are some tips to prevent vegetables from getting too soft or overcooked:\\n\\n1. Use fresh vegetables: Fresh vegetables require less cooking time and retain their texture and flavor better than older vegetables. 2. Cut vegetables into uniform-sized pieces: Cutting the vegetables into one-inch or uniform-sized pieces helps to ensure even cooking. 3. Use a timer: Set a timer according to the recommended cooking time for the vegetable you're cooking. Overcooking can cause vegetables to become mushy. 4. Taste test: Test the vegetables a few minutes before the recommended cooking time is over. If the vegetable is tender and cooked, remove it from the heat. 5. Use cold water to stop cooking: After cooking, drain the vegetable immediately and run it under cold water to stop the cooking process. 6. Avoid overcrowding the pot: Overcrowding can make the vegetables cook unevenly and take longer to cook. 7. Use steaming or blanching method: Try steaming or blanching instead of boiling to preserve the texture of the vegetables. With these tips, you should be able to cook vegetables that are firm, tender and full of flavor.</s>\\n<|user|>\\nCould you also give me some suggestions on what types of seasoning or sauce I could use to make my veggies taste better?</s>\\n<|assistant|>\\nCertainly! When it comes to seasoning or saucing vegetables, there are endless possibilities. Here are some ideas to make your vegetables taste better:\\n\\n1. Olive Oil and Lemon Juice: A classic Italian seasoning, pour some olive oil and a splash of lemon juice over your veggies for a zesty, tangy flavor. 2. Soy Sauce and Ginger: Mix soy sauce and grated ginger for an Asian inspired seasoning that'll give your vegetables a salty kick. 3. Garlic and Herbs: Mix minced garlic and fresh herbs, like parsley, rosemary or thyme, with olive oil and salt for a Mediterranean seasoning. 4. Balsamic Vinegar: Drizzle balsamic vinegar over your cooked vegetables for a rich, earthy flavor. 5. Parmesan Cheese: Shave some parmesan cheese over your veggies for a nutty, salty addition. 6. Pesto: Mix basil pesto with some olive oil and add to your vegetables for a flavorful, tangy kick. 7. Tahini Sauce: Mix tahini, lemon juice and garlic in a bowl, add some water for a creamy tahini sauce that complements any veggies. These are just a few seasoning ideas. Get creative and try your own spice combinations. Adding seasoning or sauce can make your vegetables taste delicious and exciting!</s>\\n<|user|>\\nThese seasoning ideas are amazing! Can you give me some more ideas on how to cook veggies in a healthy and flavorful way?</s>\\n<|assistant|>\\nOf course, here are a few more ideas on how to cook your veggies in a healthy and flavorful way:\\n\\n1. Roasting: Roasting your vegetables is an easy and healthy way to bring out their natural flavors. Preheat your oven to 400F, toss your veggies with a little bit of olive oil, salt and pepper, and roast them for 20-30 minutes.\\n\\n2. Grilling: Grilling is a great way to cook vegetables during summer. Cut your veggies into large pieces, brush them with olive oil, season with salt and pepper, and grill them for a few minutes on each side.\\n\\n3. Stir-frying: Stir-frying is a quick and healthy way to cook vegetables. Heat some oil in a wok or a pan, add your chopped veggies, and stir-fry them for a few minutes until they're tender yet crisp. Add some soy sauce, ginger or garlic for extra flavor.\\n\\n4. Steaming: Steaming is a healthy cooking method that preserves the complete nutrition and texture. Place your veggies in a steamer basket, and steam them for 5-7 minutes, season them with herbs, butter or lemon juice.\\n\\n5. Sautéing: Sautéed vegetables can be a hearty side dish or served as the main course. Heat some butter or olive oil in a pan, add your chopped veggies and sauté them for a few minutes until they're tender yet crisp. Add some herbs, salt or spices for extra flavor.\\n\\nThese are just a few cooking ideas. Regardless of how you cook your veggies, remember to use fresh produce, experiment different spices and enjoy their natural flavors!</s>\\n<|assistant|>\\n\"}"
            ]
          },
          "metadata": {},
          "execution_count": 7
        }
      ]
    },
    {
      "cell_type": "markdown",
      "source": [
        "### Testing Base LLAMA MODEL"
      ],
      "metadata": {
        "id": "T1OA9FntodTq"
      }
    },
    {
      "cell_type": "code",
      "source": [
        "from transformers import pipeline\n",
        "\n",
        "model_name = 'TinyLlama/TinyLlama-1.1B-intermediate-step-1431k-3T'\n",
        "pipe = pipeline('text-generation', model=model_name, device_map='auto')\n",
        "\n",
        "\n",
        "# prompt\n",
        "# <|user|>, <|assistant|>\n",
        "prompt = \"\"\"\n",
        "Tell me something about Large Language Models.</s>\n",
        "\"\"\"\n",
        "\n",
        "output = pipe(prompt)\n",
        "output"
      ],
      "metadata": {
        "colab": {
          "base_uri": "https://localhost:8080/"
        },
        "id": "uKk6KS1Uo8GD",
        "outputId": "ed347405-f01b-49f2-d9cf-a508324377b9"
      },
      "execution_count": 8,
      "outputs": [
        {
          "output_type": "stream",
          "name": "stderr",
          "text": [
            "Device set to use cuda:0\n"
          ]
        },
        {
          "output_type": "execute_result",
          "data": {
            "text/plain": [
              "[{'generated_text': '\\nTell me something about Large Language Models.</s>\\n\\nBiografia \\nNato a Roma, inizia la sua carriera di attore nel 1980, interpretando il ruolo di un ragazzo di 16 anni nella commedia teatrale La ragazza di 16 anni di Carlo Goldoni.\\n\\nNel 1981, dopo aver recitato in alcune produzioni teatrali, debutta sul grande schermo con il film di Lucio Fulci La ragazza di 16 anni.\\n\\nNel 1982, dopo aver recitato in alcune produzioni teatrali, debutta sul grande schermo con il film di Lucio Fulci La ragazza di 16 anni.\\n\\nNel 1983, dopo aver recitato in alcune produzioni teatrali, debutta sul grande schermo con il film di Lucio Fulci La ragazza di 16 anni.\\n\\nNel 1984, dopo aver recitato in alcune produzioni teatrali, debutta sul grande schermo con il film di Lucio Fulci La ragazza di 16 anni.\\n\\nNel 1985, dopo aver recitato in alcune produzioni teatrali, debutta sul grande schermo con il film di Lucio Fulci La ragazza di 16 anni.\\n\\nNel 1986, dopo aver recitato in alcune produzioni teatrali, debutta sul grande schermo con il film di Lucio Fulci La ragazza di 16 anni.\\n\\nNel 1987, dopo aver recitato in alcune produzioni teatrali, debutta sul grande schermo con il film di Lucio Fulci La ragazza di 16 anni.\\n\\nNel 1988, dopo aver recitato in alcune produzioni teatrali, debutta sul grande schermo con il film di Lucio Fulci La ragazza di 16 anni.\\n\\nNel 1989, dopo aver recitato in alcune produzioni teatrali, debutta sul grande schermo con il film di Lucio Fulci La ragazza di 16 anni.\\n\\nNel 1990, dopo aver recitato in alcune produzioni teatrali, debutta sul grande schermo con il film di Lucio Fulci La ragazza di 16 anni.\\n\\nNel 1991, dopo aver recitato in alcune produzioni teatrali, debutta sul grande schermo con il film di Lucio Fulci La ragazza di 16 anni.\\n\\nNel 1992, dopo aver recitato in alcune produzioni teatrali, debutta sul grande schermo con il film di Lucio Fulci La ragazza di 16 anni.\\n\\nNel 1993, dopo aver recitato in alcune produzioni teatrali, debutta sul grande schermo con il film di Lucio Fulci La ragazza di 16 anni.\\n\\nNel 1994, dopo aver recitato in alcune produzioni teatrali, debutta sul grande schermo con il film di Lucio Fulci La ragazza di 16 anni.\\n\\nNel 1995, dopo aver recitato in alcune produzioni teatrali, debutta sul grande schermo con il film di Lucio Fulci La ragazza di 16 anni.\\n\\nNel 1996, dopo aver recitato in alcune produzioni teatrali, debutta sul grande schermo con il film di Lucio Fulci La ragazza di 16 anni.\\n\\nNel 1997, dopo aver recitato in alcune produzioni teatrali, debutta sul grande schermo con il film di Lucio Fulci La ragazza di 16 anni.\\n\\nNel 1998, dopo aver recitato in alcune produzioni teatrali, debutta sul grande schermo con il film di Lucio Fulci La ragazza di 16 anni.\\n\\nNel 1999, dopo aver recitato in alcune produzioni teatrali, debutta sul grande schermo con il film di Lucio Fulci La ragazza di 16 anni.\\n\\nNel 2000, dopo aver recitato in alcune produzioni teatrali, debutta sul grande schermo con il film di Lucio Fulci La ragazza di 16 anni.\\n\\nNel 2001, dopo aver recitato in alcune produzioni teatrali, debutta sul grande schermo con il film di Lucio Fulci La ragazza di 16 anni.\\n\\nNel 2002, dopo aver recitato in alcune produzioni teatrali, debutta sul grande schermo con il film di Lucio Fulci La ragazza di 16 anni.\\n\\nNel 2003, dopo aver recitato in alcune produzioni teatrali, debutta sul grande schermo con il film di Lucio Fulci La ragazza di 16 anni.\\n\\nNel 2004, dopo aver recitato in alcune produzioni teatrali, debutta sul grande schermo con il film di Lucio Fulci La ragazza di 16 anni.\\n\\nNel 2005, dopo aver recitato in alcune produzioni teatrali, debutta sul grande schermo con il film di Lucio Fulci La ragazza di 16 anni.\\n\\nNel 2006, dopo aver recitato in alcune produzioni teatrali, debutta sul grande schermo con il film di Lucio Fulci La ragazza di 16 anni.\\n\\nNel 2007, dopo aver recitato in alcune produzioni teatrali, debutta sul grande schermo con il film di Lucio Fulci La ragazza di 16 anni.\\n\\nNel 2008, dopo aver recitato in alcune produzioni teatrali, debutta sul grande schermo con il film di Lucio Fulci La ragazza di 16 anni.\\n\\nNel 2009, dopo aver recitato in alcune produzioni teatrali, debutta sul grande schermo con il film di Lucio Fulci La ragazza di 16 anni.\\n\\nNel 2010, dopo aver recitato in alcune produzioni teatrali, debutta sul grande schermo con il film di Lucio Fulci La ragazza di 16 anni.\\n\\nNel 2011, dopo aver recitato in alcune produzioni teatrali, debutta sul grande schermo con il film di Lucio Fulci La ragazza di 16 anni.\\n\\nNel 2012, dopo aver recitato in alcune produzioni teatrali, debutta sul grande schermo con il film di Lucio Fulci La ragazza di 16 anni.\\n\\nNel 2013, dopo aver recitato in alcune produzioni teatrali, debutta sul grande schermo con il film di Lucio Fulci La ragazza di 16 anni.\\n\\nNel 2014, dopo aver recitato in alcune produzioni teatrali, debutta sul grande schermo con il film di Lucio Fulci La ragazza di 16 anni.\\n\\nNel 2015, dopo aver recitato in alcune produzioni teatrali, debutta sul grande schermo con il film di Lucio Fulci La ragazza di 16 anni.\\n\\nNel 2016, dopo aver recitato in alcune produzioni teatrali, debutta sul grande schermo con il film di Lucio Fulci La ragazza di 16 anni.\\n\\nNel 2017, dopo aver recitato in alcune produzioni teatrali, debutta sul grande schermo con il film di Lucio Fulci La ragazza di 16 anni.\\n\\nNel 2018, dopo aver recitato in alcune produzioni teatrali, debutta sul grande schermo con il film di Lucio Fulci La ragazza di 16 anni.\\n\\nNel 2019, dopo aver recitato in alcune produzioni teatrali, debutta sul grande schermo con il film di Lucio Fulci La ragazza di 16 anni.\\n\\nNel 2020, dopo aver recitato in alcune produzioni teatrali, debutta sul grande schermo con il film di Lucio Fulci La ragazza di 16 anni.\\n\\nFilmografia\\n\\nAttore\\n\\nCinema \\n La ragazza di 16 anni, regia di Lucio Fulci (1982)\\n La ragazza di 16 anni, regia di Lucio Fulci (1983)\\n La ragazza di 16 anni, regia di Lucio Fulci (1984)\\n La ragazza di 16'}]"
            ]
          },
          "metadata": {},
          "execution_count": 8
        }
      ]
    },
    {
      "cell_type": "markdown",
      "source": [
        "### Model Configuration for Traning"
      ],
      "metadata": {
        "id": "LSFXIpFdy-1p"
      }
    },
    {
      "cell_type": "code",
      "source": [
        "import torch\n",
        "from transformers import AutoModelForCausalLM, AutoTokenizer, BitsAndBytesConfig"
      ],
      "metadata": {
        "id": "OuKr8jpIzCTx"
      },
      "execution_count": 9,
      "outputs": []
    },
    {
      "cell_type": "code",
      "source": [
        "# do the 4-bit quantization configuration in Q-LORA\n",
        "\n",
        "bnb_config = BitsAndBytesConfig(\n",
        "    load_in_4bit = True,\n",
        "    bnb_4bit_quant_type = 'nf4',\n",
        "    bnb_4bit_compute_dtype = 'float16',\n",
        "    bnb_4bit_use_double_quant = True\n",
        ")"
      ],
      "metadata": {
        "id": "7bdSQzOBpoXp"
      },
      "execution_count": 10,
      "outputs": []
    },
    {
      "cell_type": "code",
      "source": [
        "tokenzier = AutoTokenizer.from_pretrained(\n",
        "    model_name,\n",
        "    trust_remote_code=True\n",
        ")\n",
        "tokenzier.pad_token = '<PAD>'\n",
        "tokenzier.padding_side = 'left'\n"
      ],
      "metadata": {
        "id": "IoQfEZtP0Goo"
      },
      "execution_count": 11,
      "outputs": []
    },
    {
      "cell_type": "code",
      "source": [
        "model = AutoModelForCausalLM.from_pretrained(\n",
        "    model_name,\n",
        "    quantization_config=bnb_config,\n",
        "    trust_remote_code=True,\n",
        "    device_map='auto'\n",
        ")\n"
      ],
      "metadata": {
        "id": "siMOKEgt0kfs"
      },
      "execution_count": 12,
      "outputs": []
    },
    {
      "cell_type": "code",
      "source": [
        "model"
      ],
      "metadata": {
        "colab": {
          "base_uri": "https://localhost:8080/"
        },
        "id": "b9nYm_LV0tbT",
        "outputId": "d402d995-e0fa-42e2-aa75-c280902bebe2"
      },
      "execution_count": 13,
      "outputs": [
        {
          "output_type": "execute_result",
          "data": {
            "text/plain": [
              "LlamaForCausalLM(\n",
              "  (model): LlamaModel(\n",
              "    (embed_tokens): Embedding(32000, 2048)\n",
              "    (layers): ModuleList(\n",
              "      (0-21): 22 x LlamaDecoderLayer(\n",
              "        (self_attn): LlamaSdpaAttention(\n",
              "          (q_proj): Linear4bit(in_features=2048, out_features=2048, bias=False)\n",
              "          (k_proj): Linear4bit(in_features=2048, out_features=256, bias=False)\n",
              "          (v_proj): Linear4bit(in_features=2048, out_features=256, bias=False)\n",
              "          (o_proj): Linear4bit(in_features=2048, out_features=2048, bias=False)\n",
              "          (rotary_emb): LlamaRotaryEmbedding()\n",
              "        )\n",
              "        (mlp): LlamaMLP(\n",
              "          (gate_proj): Linear4bit(in_features=2048, out_features=5632, bias=False)\n",
              "          (up_proj): Linear4bit(in_features=2048, out_features=5632, bias=False)\n",
              "          (down_proj): Linear4bit(in_features=5632, out_features=2048, bias=False)\n",
              "          (act_fn): SiLU()\n",
              "        )\n",
              "        (input_layernorm): LlamaRMSNorm((2048,), eps=1e-05)\n",
              "        (post_attention_layernorm): LlamaRMSNorm((2048,), eps=1e-05)\n",
              "      )\n",
              "    )\n",
              "    (norm): LlamaRMSNorm((2048,), eps=1e-05)\n",
              "    (rotary_emb): LlamaRotaryEmbedding()\n",
              "  )\n",
              "  (lm_head): Linear(in_features=2048, out_features=32000, bias=False)\n",
              ")"
            ]
          },
          "metadata": {},
          "execution_count": 13
        }
      ]
    },
    {
      "cell_type": "code",
      "source": [
        "model.config.use_cache = False\n",
        "model.config.pretraining_tp = 1"
      ],
      "metadata": {
        "id": "FHvB20-G3j9D"
      },
      "execution_count": 14,
      "outputs": []
    },
    {
      "cell_type": "code",
      "source": [
        "model"
      ],
      "metadata": {
        "colab": {
          "base_uri": "https://localhost:8080/"
        },
        "id": "kzbZ_uAD32wD",
        "outputId": "d225dfa8-e123-47ef-eb69-83019db8df3a"
      },
      "execution_count": 15,
      "outputs": [
        {
          "output_type": "execute_result",
          "data": {
            "text/plain": [
              "LlamaForCausalLM(\n",
              "  (model): LlamaModel(\n",
              "    (embed_tokens): Embedding(32000, 2048)\n",
              "    (layers): ModuleList(\n",
              "      (0-21): 22 x LlamaDecoderLayer(\n",
              "        (self_attn): LlamaSdpaAttention(\n",
              "          (q_proj): Linear4bit(in_features=2048, out_features=2048, bias=False)\n",
              "          (k_proj): Linear4bit(in_features=2048, out_features=256, bias=False)\n",
              "          (v_proj): Linear4bit(in_features=2048, out_features=256, bias=False)\n",
              "          (o_proj): Linear4bit(in_features=2048, out_features=2048, bias=False)\n",
              "          (rotary_emb): LlamaRotaryEmbedding()\n",
              "        )\n",
              "        (mlp): LlamaMLP(\n",
              "          (gate_proj): Linear4bit(in_features=2048, out_features=5632, bias=False)\n",
              "          (up_proj): Linear4bit(in_features=2048, out_features=5632, bias=False)\n",
              "          (down_proj): Linear4bit(in_features=5632, out_features=2048, bias=False)\n",
              "          (act_fn): SiLU()\n",
              "        )\n",
              "        (input_layernorm): LlamaRMSNorm((2048,), eps=1e-05)\n",
              "        (post_attention_layernorm): LlamaRMSNorm((2048,), eps=1e-05)\n",
              "      )\n",
              "    )\n",
              "    (norm): LlamaRMSNorm((2048,), eps=1e-05)\n",
              "    (rotary_emb): LlamaRotaryEmbedding()\n",
              "  )\n",
              "  (lm_head): Linear(in_features=2048, out_features=32000, bias=False)\n",
              ")"
            ]
          },
          "metadata": {},
          "execution_count": 15
        }
      ]
    },
    {
      "cell_type": "markdown",
      "source": [
        "### Prepare LORA Configuration for PEFT Fine Tunning"
      ],
      "metadata": {
        "id": "w8h1Arg94PUJ"
      }
    },
    {
      "cell_type": "code",
      "source": [
        "from peft import LoraConfig, prepare_model_for_kbit_training, get_peft_model\n",
        "\n",
        "peft_config = LoraConfig(\n",
        "    lora_alpha = 32,\n",
        "    lora_dropout = 0.1,\n",
        "    r = 64,\n",
        "    bias = 'none',\n",
        "    task_type ='CAUSAL_LM',\n",
        "    target_modules = ['q_proj','k_proj', 'v_proj', 'o_proj','gate_porj', 'up_proj','down_proj']\n",
        ")\n",
        "model = prepare_model_for_kbit_training(model)\n",
        "model = get_peft_model(model, peft_config)\n",
        "model"
      ],
      "metadata": {
        "colab": {
          "base_uri": "https://localhost:8080/"
        },
        "id": "tyoINDPj4VsA",
        "outputId": "77531288-3120-42ba-b07d-d46326c91a97"
      },
      "execution_count": 16,
      "outputs": [
        {
          "output_type": "execute_result",
          "data": {
            "text/plain": [
              "PeftModelForCausalLM(\n",
              "  (base_model): LoraModel(\n",
              "    (model): LlamaForCausalLM(\n",
              "      (model): LlamaModel(\n",
              "        (embed_tokens): Embedding(32000, 2048)\n",
              "        (layers): ModuleList(\n",
              "          (0-21): 22 x LlamaDecoderLayer(\n",
              "            (self_attn): LlamaSdpaAttention(\n",
              "              (q_proj): lora.Linear4bit(\n",
              "                (base_layer): Linear4bit(in_features=2048, out_features=2048, bias=False)\n",
              "                (lora_dropout): ModuleDict(\n",
              "                  (default): Dropout(p=0.1, inplace=False)\n",
              "                )\n",
              "                (lora_A): ModuleDict(\n",
              "                  (default): Linear(in_features=2048, out_features=64, bias=False)\n",
              "                )\n",
              "                (lora_B): ModuleDict(\n",
              "                  (default): Linear(in_features=64, out_features=2048, bias=False)\n",
              "                )\n",
              "                (lora_embedding_A): ParameterDict()\n",
              "                (lora_embedding_B): ParameterDict()\n",
              "                (lora_magnitude_vector): ModuleDict()\n",
              "              )\n",
              "              (k_proj): lora.Linear4bit(\n",
              "                (base_layer): Linear4bit(in_features=2048, out_features=256, bias=False)\n",
              "                (lora_dropout): ModuleDict(\n",
              "                  (default): Dropout(p=0.1, inplace=False)\n",
              "                )\n",
              "                (lora_A): ModuleDict(\n",
              "                  (default): Linear(in_features=2048, out_features=64, bias=False)\n",
              "                )\n",
              "                (lora_B): ModuleDict(\n",
              "                  (default): Linear(in_features=64, out_features=256, bias=False)\n",
              "                )\n",
              "                (lora_embedding_A): ParameterDict()\n",
              "                (lora_embedding_B): ParameterDict()\n",
              "                (lora_magnitude_vector): ModuleDict()\n",
              "              )\n",
              "              (v_proj): lora.Linear4bit(\n",
              "                (base_layer): Linear4bit(in_features=2048, out_features=256, bias=False)\n",
              "                (lora_dropout): ModuleDict(\n",
              "                  (default): Dropout(p=0.1, inplace=False)\n",
              "                )\n",
              "                (lora_A): ModuleDict(\n",
              "                  (default): Linear(in_features=2048, out_features=64, bias=False)\n",
              "                )\n",
              "                (lora_B): ModuleDict(\n",
              "                  (default): Linear(in_features=64, out_features=256, bias=False)\n",
              "                )\n",
              "                (lora_embedding_A): ParameterDict()\n",
              "                (lora_embedding_B): ParameterDict()\n",
              "                (lora_magnitude_vector): ModuleDict()\n",
              "              )\n",
              "              (o_proj): lora.Linear4bit(\n",
              "                (base_layer): Linear4bit(in_features=2048, out_features=2048, bias=False)\n",
              "                (lora_dropout): ModuleDict(\n",
              "                  (default): Dropout(p=0.1, inplace=False)\n",
              "                )\n",
              "                (lora_A): ModuleDict(\n",
              "                  (default): Linear(in_features=2048, out_features=64, bias=False)\n",
              "                )\n",
              "                (lora_B): ModuleDict(\n",
              "                  (default): Linear(in_features=64, out_features=2048, bias=False)\n",
              "                )\n",
              "                (lora_embedding_A): ParameterDict()\n",
              "                (lora_embedding_B): ParameterDict()\n",
              "                (lora_magnitude_vector): ModuleDict()\n",
              "              )\n",
              "              (rotary_emb): LlamaRotaryEmbedding()\n",
              "            )\n",
              "            (mlp): LlamaMLP(\n",
              "              (gate_proj): Linear4bit(in_features=2048, out_features=5632, bias=False)\n",
              "              (up_proj): lora.Linear4bit(\n",
              "                (base_layer): Linear4bit(in_features=2048, out_features=5632, bias=False)\n",
              "                (lora_dropout): ModuleDict(\n",
              "                  (default): Dropout(p=0.1, inplace=False)\n",
              "                )\n",
              "                (lora_A): ModuleDict(\n",
              "                  (default): Linear(in_features=2048, out_features=64, bias=False)\n",
              "                )\n",
              "                (lora_B): ModuleDict(\n",
              "                  (default): Linear(in_features=64, out_features=5632, bias=False)\n",
              "                )\n",
              "                (lora_embedding_A): ParameterDict()\n",
              "                (lora_embedding_B): ParameterDict()\n",
              "                (lora_magnitude_vector): ModuleDict()\n",
              "              )\n",
              "              (down_proj): lora.Linear4bit(\n",
              "                (base_layer): Linear4bit(in_features=5632, out_features=2048, bias=False)\n",
              "                (lora_dropout): ModuleDict(\n",
              "                  (default): Dropout(p=0.1, inplace=False)\n",
              "                )\n",
              "                (lora_A): ModuleDict(\n",
              "                  (default): Linear(in_features=5632, out_features=64, bias=False)\n",
              "                )\n",
              "                (lora_B): ModuleDict(\n",
              "                  (default): Linear(in_features=64, out_features=2048, bias=False)\n",
              "                )\n",
              "                (lora_embedding_A): ParameterDict()\n",
              "                (lora_embedding_B): ParameterDict()\n",
              "                (lora_magnitude_vector): ModuleDict()\n",
              "              )\n",
              "              (act_fn): SiLU()\n",
              "            )\n",
              "            (input_layernorm): LlamaRMSNorm((2048,), eps=1e-05)\n",
              "            (post_attention_layernorm): LlamaRMSNorm((2048,), eps=1e-05)\n",
              "          )\n",
              "        )\n",
              "        (norm): LlamaRMSNorm((2048,), eps=1e-05)\n",
              "        (rotary_emb): LlamaRotaryEmbedding()\n",
              "      )\n",
              "      (lm_head): Linear(in_features=2048, out_features=32000, bias=False)\n",
              "    )\n",
              "  )\n",
              ")"
            ]
          },
          "metadata": {},
          "execution_count": 16
        }
      ]
    },
    {
      "cell_type": "code",
      "source": [
        "from transformers import TrainingArguments\n",
        "from trl import SFTTrainer , SFTConfig\n",
        "output_dir = 'train_dir'\n",
        "args = TrainingArguments(\n",
        "    output_dir = output_dir,\n",
        "    per_device_train_batch_size = 2,\n",
        "    gradient_accumulation_steps = 4,\n",
        "    optim = 'paged_adamw_32bit',\n",
        "    learning_rate = 2e-4,\n",
        "    lr_scheduler_type = 'cosine',\n",
        "    num_train_epochs = 1,\n",
        "    logging_steps = 10,\n",
        "    fp16 = True,\n",
        "    gradient_checkpointing = True\n",
        ")\n",
        "sft_config = SFTConfig(\n",
        "    output_dir = output_dir,\n",
        "    dataset_text_field = 'text'\n",
        ")\n"
      ],
      "metadata": {
        "id": "EkhJ7_uo5gwF"
      },
      "execution_count": 17,
      "outputs": []
    },
    {
      "cell_type": "code",
      "source": [
        "trainer = SFTTrainer(\n",
        "    model = model,\n",
        "    train_dataset = dataset,\n",
        "    #dataset_text_field=\"text\",\n",
        "    args = args,\n",
        "    tokenizer = tokenzier,\n",
        "   # max_seq_length = 512,\n",
        "    peft_config = peft_config\n",
        ")\n",
        "\n",
        "\n",
        "trainer.train()"
      ],
      "metadata": {
        "id": "PY2nYTqn9Bit",
        "colab": {
          "base_uri": "https://localhost:8080/",
          "height": 440,
          "referenced_widgets": [
            "5e83d7e013534e79b918828c511d2ff3",
            "a09b27e9590e429a83a209828306b43b",
            "10bd9a4a069d43129af16f0f3187c9cc",
            "995187cd8da542a08ef7b9bde88a4d3e",
            "e683b3f655c443dc9128cc85bafe9545",
            "b2163a3f6e3d4ada98d016a183f1d258",
            "ec8505a0ac1d4b7f99b27ec05abd85ec",
            "c144220e8d5d4ce19f69ed554c91b076",
            "2018c50b7c3047049d13f4ce4ee87df7",
            "ac6e9581b2e4464f8e4242378541b80c",
            "513668ec186f4621ba16667e8fb25b9f"
          ]
        },
        "outputId": "e53d4da7-3bc5-47cb-f5b1-3b4f2e1f8934"
      },
      "execution_count": 21,
      "outputs": [
        {
          "output_type": "stream",
          "name": "stderr",
          "text": [
            "<ipython-input-21-69852776f8c9>:1: FutureWarning: `tokenizer` is deprecated and removed starting from version 0.16.0 for `SFTTrainer.__init__`. Use `processing_class` instead.\n",
            "  trainer = SFTTrainer(\n"
          ]
        },
        {
          "output_type": "display_data",
          "data": {
            "text/plain": [
              "Map:   0%|          | 0/10000 [00:00<?, ? examples/s]"
            ],
            "application/vnd.jupyter.widget-view+json": {
              "version_major": 2,
              "version_minor": 0,
              "model_id": "5e83d7e013534e79b918828c511d2ff3"
            }
          },
          "metadata": {}
        },
        {
          "output_type": "error",
          "ename": "ValueError",
          "evalue": "Cannot use chat template functions because tokenizer.chat_template is not set and no template argument was passed! For information about writing templates and setting the tokenizer.chat_template attribute, please see the documentation at https://huggingface.co/docs/transformers/main/en/chat_templating",
          "traceback": [
            "\u001b[0;31m---------------------------------------------------------------------------\u001b[0m",
            "\u001b[0;31mValueError\u001b[0m                                Traceback (most recent call last)",
            "\u001b[0;32m<ipython-input-21-69852776f8c9>\u001b[0m in \u001b[0;36m<cell line: 1>\u001b[0;34m()\u001b[0m\n\u001b[0;32m----> 1\u001b[0;31m trainer = SFTTrainer(\n\u001b[0m\u001b[1;32m      2\u001b[0m     \u001b[0mmodel\u001b[0m \u001b[0;34m=\u001b[0m \u001b[0mmodel\u001b[0m\u001b[0;34m,\u001b[0m\u001b[0;34m\u001b[0m\u001b[0;34m\u001b[0m\u001b[0m\n\u001b[1;32m      3\u001b[0m     \u001b[0mtrain_dataset\u001b[0m \u001b[0;34m=\u001b[0m \u001b[0mdataset\u001b[0m\u001b[0;34m,\u001b[0m\u001b[0;34m\u001b[0m\u001b[0;34m\u001b[0m\u001b[0m\n\u001b[1;32m      4\u001b[0m     \u001b[0;31m#dataset_text_field=\"text\",\u001b[0m\u001b[0;34m\u001b[0m\u001b[0;34m\u001b[0m\u001b[0m\n\u001b[1;32m      5\u001b[0m     \u001b[0margs\u001b[0m \u001b[0;34m=\u001b[0m \u001b[0margs\u001b[0m\u001b[0;34m,\u001b[0m\u001b[0;34m\u001b[0m\u001b[0;34m\u001b[0m\u001b[0m\n",
            "\u001b[0;32m/usr/local/lib/python3.10/dist-packages/transformers/utils/deprecation.py\u001b[0m in \u001b[0;36mwrapped_func\u001b[0;34m(*args, **kwargs)\u001b[0m\n\u001b[1;32m    163\u001b[0m                 \u001b[0mwarnings\u001b[0m\u001b[0;34m.\u001b[0m\u001b[0mwarn\u001b[0m\u001b[0;34m(\u001b[0m\u001b[0mmessage\u001b[0m\u001b[0;34m,\u001b[0m \u001b[0mFutureWarning\u001b[0m\u001b[0;34m,\u001b[0m \u001b[0mstacklevel\u001b[0m\u001b[0;34m=\u001b[0m\u001b[0;36m2\u001b[0m\u001b[0;34m)\u001b[0m\u001b[0;34m\u001b[0m\u001b[0;34m\u001b[0m\u001b[0m\n\u001b[1;32m    164\u001b[0m \u001b[0;34m\u001b[0m\u001b[0m\n\u001b[0;32m--> 165\u001b[0;31m             \u001b[0;32mreturn\u001b[0m \u001b[0mfunc\u001b[0m\u001b[0;34m(\u001b[0m\u001b[0;34m*\u001b[0m\u001b[0margs\u001b[0m\u001b[0;34m,\u001b[0m \u001b[0;34m**\u001b[0m\u001b[0mkwargs\u001b[0m\u001b[0;34m)\u001b[0m\u001b[0;34m\u001b[0m\u001b[0;34m\u001b[0m\u001b[0m\n\u001b[0m\u001b[1;32m    166\u001b[0m \u001b[0;34m\u001b[0m\u001b[0m\n\u001b[1;32m    167\u001b[0m         \u001b[0;32mreturn\u001b[0m \u001b[0mwrapped_func\u001b[0m\u001b[0;34m\u001b[0m\u001b[0;34m\u001b[0m\u001b[0m\n",
            "\u001b[0;32m/usr/local/lib/python3.10/dist-packages/trl/trainer/sft_trainer.py\u001b[0m in \u001b[0;36m__init__\u001b[0;34m(self, model, args, data_collator, train_dataset, eval_dataset, processing_class, model_init, compute_metrics, callbacks, optimizers, preprocess_logits_for_metrics, peft_config, formatting_func)\u001b[0m\n\u001b[1;32m    263\u001b[0m         \u001b[0;32mwith\u001b[0m \u001b[0mPartialState\u001b[0m\u001b[0;34m(\u001b[0m\u001b[0;34m)\u001b[0m\u001b[0;34m.\u001b[0m\u001b[0mlocal_main_process_first\u001b[0m\u001b[0;34m(\u001b[0m\u001b[0;34m)\u001b[0m\u001b[0;34m:\u001b[0m\u001b[0;34m\u001b[0m\u001b[0;34m\u001b[0m\u001b[0m\n\u001b[1;32m    264\u001b[0m             \u001b[0;32mif\u001b[0m \u001b[0mtrain_dataset\u001b[0m \u001b[0;32mis\u001b[0m \u001b[0;32mnot\u001b[0m \u001b[0;32mNone\u001b[0m\u001b[0;34m:\u001b[0m\u001b[0;34m\u001b[0m\u001b[0;34m\u001b[0m\u001b[0m\n\u001b[0;32m--> 265\u001b[0;31m                 train_dataset = self._prepare_dataset(\n\u001b[0m\u001b[1;32m    266\u001b[0m                     \u001b[0mtrain_dataset\u001b[0m\u001b[0;34m,\u001b[0m\u001b[0;34m\u001b[0m\u001b[0;34m\u001b[0m\u001b[0m\n\u001b[1;32m    267\u001b[0m                     \u001b[0mprocessing_class\u001b[0m\u001b[0;34m,\u001b[0m\u001b[0;34m\u001b[0m\u001b[0;34m\u001b[0m\u001b[0m\n",
            "\u001b[0;32m/usr/local/lib/python3.10/dist-packages/trl/trainer/sft_trainer.py\u001b[0m in \u001b[0;36m_prepare_dataset\u001b[0;34m(self, dataset, processing_class, packing, dataset_text_field, max_seq_length, formatting_func, num_of_sequences, chars_per_token, remove_unused_columns, append_concat_token, add_special_tokens, skip_prepare_dataset)\u001b[0m\n\u001b[1;32m    378\u001b[0m \u001b[0;34m\u001b[0m\u001b[0m\n\u001b[1;32m    379\u001b[0m         \u001b[0;32mif\u001b[0m \u001b[0;32mnot\u001b[0m \u001b[0mpacking\u001b[0m\u001b[0;34m:\u001b[0m\u001b[0;34m\u001b[0m\u001b[0;34m\u001b[0m\u001b[0m\n\u001b[0;32m--> 380\u001b[0;31m             return self._prepare_non_packed_dataloader(\n\u001b[0m\u001b[1;32m    381\u001b[0m                 \u001b[0mprocessing_class\u001b[0m\u001b[0;34m,\u001b[0m\u001b[0;34m\u001b[0m\u001b[0;34m\u001b[0m\u001b[0m\n\u001b[1;32m    382\u001b[0m                 \u001b[0mdataset\u001b[0m\u001b[0;34m,\u001b[0m\u001b[0;34m\u001b[0m\u001b[0;34m\u001b[0m\u001b[0m\n",
            "\u001b[0;32m/usr/local/lib/python3.10/dist-packages/trl/trainer/sft_trainer.py\u001b[0m in \u001b[0;36m_prepare_non_packed_dataloader\u001b[0;34m(self, processing_class, dataset, dataset_text_field, max_seq_length, formatting_func, add_special_tokens, remove_unused_columns)\u001b[0m\n\u001b[1;32m    453\u001b[0m         \u001b[0;32mif\u001b[0m \u001b[0misinstance\u001b[0m\u001b[0;34m(\u001b[0m\u001b[0mdataset\u001b[0m\u001b[0;34m,\u001b[0m \u001b[0mdatasets\u001b[0m\u001b[0;34m.\u001b[0m\u001b[0mDataset\u001b[0m\u001b[0;34m)\u001b[0m\u001b[0;34m:\u001b[0m\u001b[0;34m\u001b[0m\u001b[0;34m\u001b[0m\u001b[0m\n\u001b[1;32m    454\u001b[0m             \u001b[0mmap_kwargs\u001b[0m\u001b[0;34m[\u001b[0m\u001b[0;34m\"num_proc\"\u001b[0m\u001b[0;34m]\u001b[0m \u001b[0;34m=\u001b[0m \u001b[0mself\u001b[0m\u001b[0;34m.\u001b[0m\u001b[0mdataset_num_proc\u001b[0m  \u001b[0;31m# this arg is not available for IterableDataset\u001b[0m\u001b[0;34m\u001b[0m\u001b[0;34m\u001b[0m\u001b[0m\n\u001b[0;32m--> 455\u001b[0;31m         \u001b[0mtokenized_dataset\u001b[0m \u001b[0;34m=\u001b[0m \u001b[0mdataset\u001b[0m\u001b[0;34m.\u001b[0m\u001b[0mmap\u001b[0m\u001b[0;34m(\u001b[0m\u001b[0mtokenize\u001b[0m\u001b[0;34m,\u001b[0m \u001b[0;34m**\u001b[0m\u001b[0mmap_kwargs\u001b[0m\u001b[0;34m)\u001b[0m\u001b[0;34m\u001b[0m\u001b[0;34m\u001b[0m\u001b[0m\n\u001b[0m\u001b[1;32m    456\u001b[0m \u001b[0;34m\u001b[0m\u001b[0m\n\u001b[1;32m    457\u001b[0m         \u001b[0;32mreturn\u001b[0m \u001b[0mtokenized_dataset\u001b[0m\u001b[0;34m\u001b[0m\u001b[0;34m\u001b[0m\u001b[0m\n",
            "\u001b[0;32m/usr/local/lib/python3.10/dist-packages/datasets/arrow_dataset.py\u001b[0m in \u001b[0;36mwrapper\u001b[0;34m(*args, **kwargs)\u001b[0m\n\u001b[1;32m    558\u001b[0m         }\n\u001b[1;32m    559\u001b[0m         \u001b[0;31m# apply actual function\u001b[0m\u001b[0;34m\u001b[0m\u001b[0;34m\u001b[0m\u001b[0m\n\u001b[0;32m--> 560\u001b[0;31m         \u001b[0mout\u001b[0m\u001b[0;34m:\u001b[0m \u001b[0mUnion\u001b[0m\u001b[0;34m[\u001b[0m\u001b[0;34m\"Dataset\"\u001b[0m\u001b[0;34m,\u001b[0m \u001b[0;34m\"DatasetDict\"\u001b[0m\u001b[0;34m]\u001b[0m \u001b[0;34m=\u001b[0m \u001b[0mfunc\u001b[0m\u001b[0;34m(\u001b[0m\u001b[0mself\u001b[0m\u001b[0;34m,\u001b[0m \u001b[0;34m*\u001b[0m\u001b[0margs\u001b[0m\u001b[0;34m,\u001b[0m \u001b[0;34m**\u001b[0m\u001b[0mkwargs\u001b[0m\u001b[0;34m)\u001b[0m\u001b[0;34m\u001b[0m\u001b[0;34m\u001b[0m\u001b[0m\n\u001b[0m\u001b[1;32m    561\u001b[0m         \u001b[0mdatasets\u001b[0m\u001b[0;34m:\u001b[0m \u001b[0mList\u001b[0m\u001b[0;34m[\u001b[0m\u001b[0;34m\"Dataset\"\u001b[0m\u001b[0;34m]\u001b[0m \u001b[0;34m=\u001b[0m \u001b[0mlist\u001b[0m\u001b[0;34m(\u001b[0m\u001b[0mout\u001b[0m\u001b[0;34m.\u001b[0m\u001b[0mvalues\u001b[0m\u001b[0;34m(\u001b[0m\u001b[0;34m)\u001b[0m\u001b[0;34m)\u001b[0m \u001b[0;32mif\u001b[0m \u001b[0misinstance\u001b[0m\u001b[0;34m(\u001b[0m\u001b[0mout\u001b[0m\u001b[0;34m,\u001b[0m \u001b[0mdict\u001b[0m\u001b[0;34m)\u001b[0m \u001b[0;32melse\u001b[0m \u001b[0;34m[\u001b[0m\u001b[0mout\u001b[0m\u001b[0;34m]\u001b[0m\u001b[0;34m\u001b[0m\u001b[0;34m\u001b[0m\u001b[0m\n\u001b[1;32m    562\u001b[0m         \u001b[0;31m# re-apply format to the output\u001b[0m\u001b[0;34m\u001b[0m\u001b[0;34m\u001b[0m\u001b[0m\n",
            "\u001b[0;32m/usr/local/lib/python3.10/dist-packages/datasets/arrow_dataset.py\u001b[0m in \u001b[0;36mmap\u001b[0;34m(self, function, with_indices, with_rank, input_columns, batched, batch_size, drop_last_batch, remove_columns, keep_in_memory, load_from_cache_file, cache_file_name, writer_batch_size, features, disable_nullable, fn_kwargs, num_proc, suffix_template, new_fingerprint, desc)\u001b[0m\n\u001b[1;32m   3071\u001b[0m                     \u001b[0mdesc\u001b[0m\u001b[0;34m=\u001b[0m\u001b[0mdesc\u001b[0m \u001b[0;32mor\u001b[0m \u001b[0;34m\"Map\"\u001b[0m\u001b[0;34m,\u001b[0m\u001b[0;34m\u001b[0m\u001b[0;34m\u001b[0m\u001b[0m\n\u001b[1;32m   3072\u001b[0m                 ) as pbar:\n\u001b[0;32m-> 3073\u001b[0;31m                     \u001b[0;32mfor\u001b[0m \u001b[0mrank\u001b[0m\u001b[0;34m,\u001b[0m \u001b[0mdone\u001b[0m\u001b[0;34m,\u001b[0m \u001b[0mcontent\u001b[0m \u001b[0;32min\u001b[0m \u001b[0mDataset\u001b[0m\u001b[0;34m.\u001b[0m\u001b[0m_map_single\u001b[0m\u001b[0;34m(\u001b[0m\u001b[0;34m**\u001b[0m\u001b[0mdataset_kwargs\u001b[0m\u001b[0;34m)\u001b[0m\u001b[0;34m:\u001b[0m\u001b[0;34m\u001b[0m\u001b[0;34m\u001b[0m\u001b[0m\n\u001b[0m\u001b[1;32m   3074\u001b[0m                         \u001b[0;32mif\u001b[0m \u001b[0mdone\u001b[0m\u001b[0;34m:\u001b[0m\u001b[0;34m\u001b[0m\u001b[0;34m\u001b[0m\u001b[0m\n\u001b[1;32m   3075\u001b[0m                             \u001b[0mshards_done\u001b[0m \u001b[0;34m+=\u001b[0m \u001b[0;36m1\u001b[0m\u001b[0;34m\u001b[0m\u001b[0;34m\u001b[0m\u001b[0m\n",
            "\u001b[0;32m/usr/local/lib/python3.10/dist-packages/datasets/arrow_dataset.py\u001b[0m in \u001b[0;36m_map_single\u001b[0;34m(shard, function, with_indices, with_rank, input_columns, batched, batch_size, drop_last_batch, remove_columns, keep_in_memory, cache_file_name, writer_batch_size, features, disable_nullable, fn_kwargs, new_fingerprint, rank, offset)\u001b[0m\n\u001b[1;32m   3474\u001b[0m                         )  # Something simpler?\n\u001b[1;32m   3475\u001b[0m                         \u001b[0;32mtry\u001b[0m\u001b[0;34m:\u001b[0m\u001b[0;34m\u001b[0m\u001b[0;34m\u001b[0m\u001b[0m\n\u001b[0;32m-> 3476\u001b[0;31m                             batch = apply_function_on_filtered_inputs(\n\u001b[0m\u001b[1;32m   3477\u001b[0m                                 \u001b[0mbatch\u001b[0m\u001b[0;34m,\u001b[0m\u001b[0;34m\u001b[0m\u001b[0;34m\u001b[0m\u001b[0m\n\u001b[1;32m   3478\u001b[0m                                 \u001b[0mindices\u001b[0m\u001b[0;34m,\u001b[0m\u001b[0;34m\u001b[0m\u001b[0;34m\u001b[0m\u001b[0m\n",
            "\u001b[0;32m/usr/local/lib/python3.10/dist-packages/datasets/arrow_dataset.py\u001b[0m in \u001b[0;36mapply_function_on_filtered_inputs\u001b[0;34m(pa_inputs, indices, check_same_num_examples, offset)\u001b[0m\n\u001b[1;32m   3336\u001b[0m             \u001b[0;32mif\u001b[0m \u001b[0mwith_rank\u001b[0m\u001b[0;34m:\u001b[0m\u001b[0;34m\u001b[0m\u001b[0;34m\u001b[0m\u001b[0m\n\u001b[1;32m   3337\u001b[0m                 \u001b[0madditional_args\u001b[0m \u001b[0;34m+=\u001b[0m \u001b[0;34m(\u001b[0m\u001b[0mrank\u001b[0m\u001b[0;34m,\u001b[0m\u001b[0;34m)\u001b[0m\u001b[0;34m\u001b[0m\u001b[0;34m\u001b[0m\u001b[0m\n\u001b[0;32m-> 3338\u001b[0;31m             \u001b[0mprocessed_inputs\u001b[0m \u001b[0;34m=\u001b[0m \u001b[0mfunction\u001b[0m\u001b[0;34m(\u001b[0m\u001b[0;34m*\u001b[0m\u001b[0mfn_args\u001b[0m\u001b[0;34m,\u001b[0m \u001b[0;34m*\u001b[0m\u001b[0madditional_args\u001b[0m\u001b[0;34m,\u001b[0m \u001b[0;34m**\u001b[0m\u001b[0mfn_kwargs\u001b[0m\u001b[0;34m)\u001b[0m\u001b[0;34m\u001b[0m\u001b[0;34m\u001b[0m\u001b[0m\n\u001b[0m\u001b[1;32m   3339\u001b[0m             \u001b[0;32mif\u001b[0m \u001b[0misinstance\u001b[0m\u001b[0;34m(\u001b[0m\u001b[0mprocessed_inputs\u001b[0m\u001b[0;34m,\u001b[0m \u001b[0mLazyDict\u001b[0m\u001b[0;34m)\u001b[0m\u001b[0;34m:\u001b[0m\u001b[0;34m\u001b[0m\u001b[0;34m\u001b[0m\u001b[0m\n\u001b[1;32m   3340\u001b[0m                 processed_inputs = {\n",
            "\u001b[0;32m/usr/local/lib/python3.10/dist-packages/trl/trainer/sft_trainer.py\u001b[0m in \u001b[0;36mtokenize\u001b[0;34m(element)\u001b[0m\n\u001b[1;32m    414\u001b[0m         \u001b[0;32mdef\u001b[0m \u001b[0mtokenize\u001b[0m\u001b[0;34m(\u001b[0m\u001b[0melement\u001b[0m\u001b[0;34m)\u001b[0m\u001b[0;34m:\u001b[0m\u001b[0;34m\u001b[0m\u001b[0;34m\u001b[0m\u001b[0m\n\u001b[1;32m    415\u001b[0m             outputs = processing_class(\n\u001b[0;32m--> 416\u001b[0;31m                 \u001b[0melement\u001b[0m\u001b[0;34m[\u001b[0m\u001b[0mdataset_text_field\u001b[0m\u001b[0;34m]\u001b[0m \u001b[0;32mif\u001b[0m \u001b[0mformatting_func\u001b[0m \u001b[0;32mis\u001b[0m \u001b[0;32mNone\u001b[0m \u001b[0;32melse\u001b[0m \u001b[0mformatting_func\u001b[0m\u001b[0;34m(\u001b[0m\u001b[0melement\u001b[0m\u001b[0;34m)\u001b[0m\u001b[0;34m,\u001b[0m\u001b[0;34m\u001b[0m\u001b[0;34m\u001b[0m\u001b[0m\n\u001b[0m\u001b[1;32m    417\u001b[0m                 \u001b[0madd_special_tokens\u001b[0m\u001b[0;34m=\u001b[0m\u001b[0madd_special_tokens\u001b[0m\u001b[0;34m,\u001b[0m\u001b[0;34m\u001b[0m\u001b[0;34m\u001b[0m\u001b[0m\n\u001b[1;32m    418\u001b[0m                 \u001b[0mtruncation\u001b[0m\u001b[0;34m=\u001b[0m\u001b[0;32mTrue\u001b[0m\u001b[0;34m,\u001b[0m\u001b[0;34m\u001b[0m\u001b[0;34m\u001b[0m\u001b[0m\n",
            "\u001b[0;32m/usr/local/lib/python3.10/dist-packages/trl/extras/dataset_formatting.py\u001b[0m in \u001b[0;36mformat_dataset\u001b[0;34m(examples)\u001b[0m\n\u001b[1;32m     41\u001b[0m             \u001b[0;32mfor\u001b[0m \u001b[0mi\u001b[0m \u001b[0;32min\u001b[0m \u001b[0mrange\u001b[0m\u001b[0;34m(\u001b[0m\u001b[0mlen\u001b[0m\u001b[0;34m(\u001b[0m\u001b[0mexamples\u001b[0m\u001b[0;34m[\u001b[0m\u001b[0mmessages_field\u001b[0m\u001b[0;34m]\u001b[0m\u001b[0;34m)\u001b[0m\u001b[0;34m)\u001b[0m\u001b[0;34m:\u001b[0m\u001b[0;34m\u001b[0m\u001b[0;34m\u001b[0m\u001b[0m\n\u001b[1;32m     42\u001b[0m                 output_texts.append(\n\u001b[0;32m---> 43\u001b[0;31m                     \u001b[0mtokenizer\u001b[0m\u001b[0;34m.\u001b[0m\u001b[0mapply_chat_template\u001b[0m\u001b[0;34m(\u001b[0m\u001b[0mexamples\u001b[0m\u001b[0;34m[\u001b[0m\u001b[0mmessages_field\u001b[0m\u001b[0;34m]\u001b[0m\u001b[0;34m[\u001b[0m\u001b[0mi\u001b[0m\u001b[0;34m]\u001b[0m\u001b[0;34m,\u001b[0m \u001b[0mtokenize\u001b[0m\u001b[0;34m=\u001b[0m\u001b[0;32mFalse\u001b[0m\u001b[0;34m,\u001b[0m \u001b[0mtools\u001b[0m\u001b[0;34m=\u001b[0m\u001b[0mtools\u001b[0m\u001b[0;34m)\u001b[0m\u001b[0;34m\u001b[0m\u001b[0;34m\u001b[0m\u001b[0m\n\u001b[0m\u001b[1;32m     44\u001b[0m                 )\n\u001b[1;32m     45\u001b[0m             \u001b[0;32mreturn\u001b[0m \u001b[0moutput_texts\u001b[0m\u001b[0;34m\u001b[0m\u001b[0;34m\u001b[0m\u001b[0m\n",
            "\u001b[0;32m/usr/local/lib/python3.10/dist-packages/transformers/tokenization_utils_base.py\u001b[0m in \u001b[0;36mapply_chat_template\u001b[0;34m(self, conversation, tools, documents, chat_template, add_generation_prompt, continue_final_message, tokenize, padding, truncation, max_length, return_tensors, return_dict, return_assistant_tokens_mask, tokenizer_kwargs, **kwargs)\u001b[0m\n\u001b[1;32m   1615\u001b[0m             \u001b[0mtokenizer_kwargs\u001b[0m \u001b[0;34m=\u001b[0m \u001b[0;34m{\u001b[0m\u001b[0;34m}\u001b[0m\u001b[0;34m\u001b[0m\u001b[0;34m\u001b[0m\u001b[0m\n\u001b[1;32m   1616\u001b[0m \u001b[0;34m\u001b[0m\u001b[0m\n\u001b[0;32m-> 1617\u001b[0;31m         \u001b[0mchat_template\u001b[0m \u001b[0;34m=\u001b[0m \u001b[0mself\u001b[0m\u001b[0;34m.\u001b[0m\u001b[0mget_chat_template\u001b[0m\u001b[0;34m(\u001b[0m\u001b[0mchat_template\u001b[0m\u001b[0;34m,\u001b[0m \u001b[0mtools\u001b[0m\u001b[0;34m)\u001b[0m\u001b[0;34m\u001b[0m\u001b[0;34m\u001b[0m\u001b[0m\n\u001b[0m\u001b[1;32m   1618\u001b[0m \u001b[0;34m\u001b[0m\u001b[0m\n\u001b[1;32m   1619\u001b[0m         \u001b[0;32mif\u001b[0m \u001b[0mreturn_assistant_tokens_mask\u001b[0m \u001b[0;32mand\u001b[0m \u001b[0;32mnot\u001b[0m \u001b[0mre\u001b[0m\u001b[0;34m.\u001b[0m\u001b[0msearch\u001b[0m\u001b[0;34m(\u001b[0m\u001b[0;34mr\"\\{\\%-?\\s*generation\\s*-?\\%\\}\"\u001b[0m\u001b[0;34m,\u001b[0m \u001b[0mchat_template\u001b[0m\u001b[0;34m)\u001b[0m\u001b[0;34m:\u001b[0m\u001b[0;34m\u001b[0m\u001b[0;34m\u001b[0m\u001b[0m\n",
            "\u001b[0;32m/usr/local/lib/python3.10/dist-packages/transformers/tokenization_utils_base.py\u001b[0m in \u001b[0;36mget_chat_template\u001b[0;34m(self, chat_template, tools)\u001b[0m\n\u001b[1;32m   1783\u001b[0m                 \u001b[0mchat_template\u001b[0m \u001b[0;34m=\u001b[0m \u001b[0mself\u001b[0m\u001b[0;34m.\u001b[0m\u001b[0mchat_template\u001b[0m\u001b[0;34m\u001b[0m\u001b[0;34m\u001b[0m\u001b[0m\n\u001b[1;32m   1784\u001b[0m             \u001b[0;32melse\u001b[0m\u001b[0;34m:\u001b[0m\u001b[0;34m\u001b[0m\u001b[0;34m\u001b[0m\u001b[0m\n\u001b[0;32m-> 1785\u001b[0;31m                 raise ValueError(\n\u001b[0m\u001b[1;32m   1786\u001b[0m                     \u001b[0;34m\"Cannot use chat template functions because tokenizer.chat_template is not set and no template \"\u001b[0m\u001b[0;34m\u001b[0m\u001b[0;34m\u001b[0m\u001b[0m\n\u001b[1;32m   1787\u001b[0m                     \u001b[0;34m\"argument was passed! For information about writing templates and setting the \"\u001b[0m\u001b[0;34m\u001b[0m\u001b[0;34m\u001b[0m\u001b[0m\n",
            "\u001b[0;31mValueError\u001b[0m: Cannot use chat template functions because tokenizer.chat_template is not set and no template argument was passed! For information about writing templates and setting the tokenizer.chat_template attribute, please see the documentation at https://huggingface.co/docs/transformers/main/en/chat_templating"
          ]
        }
      ]
    },
    {
      "cell_type": "code",
      "source": [],
      "metadata": {
        "id": "twW8k9jpWY3Y"
      },
      "execution_count": null,
      "outputs": []
    }
  ]
}